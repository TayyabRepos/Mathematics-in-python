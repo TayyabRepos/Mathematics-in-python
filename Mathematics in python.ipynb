{
 "cells": [
  {
   "cell_type": "code",
   "execution_count": 158,
   "id": "a583a0b6",
   "metadata": {},
   "outputs": [],
   "source": [
    "#Import libs"
   ]
  },
  {
   "cell_type": "code",
   "execution_count": 159,
   "id": "e87eab92",
   "metadata": {},
   "outputs": [],
   "source": [
    "import numpy as np\n",
    "import pandas as pd"
   ]
  },
  {
   "cell_type": "code",
   "execution_count": 160,
   "id": "b7469e7e",
   "metadata": {},
   "outputs": [],
   "source": [
    "#Declare scaler vectors and matrices"
   ]
  },
  {
   "cell_type": "code",
   "execution_count": 161,
   "id": "b3d8ed6d",
   "metadata": {},
   "outputs": [],
   "source": [
    "#Scaler"
   ]
  },
  {
   "cell_type": "code",
   "execution_count": 162,
   "id": "26b9b4ab",
   "metadata": {
    "pycharm": {
     "is_executing": true
    }
   },
   "outputs": [],
   "source": [
    "s = 5\n"
   ]
  },
  {
   "cell_type": "code",
   "execution_count": 163,
   "id": "eee75ec9",
   "metadata": {},
   "outputs": [
    {
     "data": {
      "text/plain": [
       "5"
      ]
     },
     "execution_count": 163,
     "metadata": {},
     "output_type": "execute_result"
    }
   ],
   "source": [
    "s\n"
   ]
  },
  {
   "cell_type": "code",
   "execution_count": 164,
   "id": "a2dd75cf",
   "metadata": {},
   "outputs": [],
   "source": [
    "v = np.array([1,2,3,4])"
   ]
  },
  {
   "cell_type": "code",
   "execution_count": 165,
   "id": "2c21aa48",
   "metadata": {},
   "outputs": [
    {
     "data": {
      "text/plain": [
       "array([1, 2, 3, 4])"
      ]
     },
     "execution_count": 165,
     "metadata": {},
     "output_type": "execute_result"
    }
   ],
   "source": [
    "v"
   ]
  },
  {
   "cell_type": "code",
   "execution_count": 166,
   "id": "fa768d67",
   "metadata": {},
   "outputs": [],
   "source": [
    "#Matrices"
   ]
  },
  {
   "cell_type": "code",
   "execution_count": 167,
   "id": "f44a7063",
   "metadata": {},
   "outputs": [],
   "source": [
    "m = np.array([[1,2,3],[4,5,6]])"
   ]
  },
  {
   "cell_type": "code",
   "execution_count": 168,
   "id": "e33ea206",
   "metadata": {},
   "outputs": [
    {
     "data": {
      "text/plain": [
       "array([[1, 2, 3],\n",
       "       [4, 5, 6]])"
      ]
     },
     "execution_count": 168,
     "metadata": {},
     "output_type": "execute_result"
    }
   ],
   "source": [
    "m"
   ]
  },
  {
   "cell_type": "code",
   "execution_count": 169,
   "id": "42097cb3",
   "metadata": {},
   "outputs": [],
   "source": [
    "#DataTypes"
   ]
  },
  {
   "cell_type": "code",
   "execution_count": 170,
   "id": "db8556d3",
   "metadata": {},
   "outputs": [
    {
     "data": {
      "text/plain": [
       "int"
      ]
     },
     "execution_count": 170,
     "metadata": {},
     "output_type": "execute_result"
    }
   ],
   "source": [
    "type(s)"
   ]
  },
  {
   "cell_type": "code",
   "execution_count": 171,
   "id": "89b7f5ab",
   "metadata": {},
   "outputs": [
    {
     "data": {
      "text/plain": [
       "numpy.ndarray"
      ]
     },
     "execution_count": 171,
     "metadata": {},
     "output_type": "execute_result"
    }
   ],
   "source": [
    "type(v)"
   ]
  },
  {
   "cell_type": "code",
   "execution_count": 172,
   "id": "1b807005",
   "metadata": {},
   "outputs": [
    {
     "data": {
      "text/plain": [
       "numpy.ndarray"
      ]
     },
     "execution_count": 172,
     "metadata": {},
     "output_type": "execute_result"
    }
   ],
   "source": [
    "type(m)"
   ]
  },
  {
   "cell_type": "code",
   "execution_count": 173,
   "id": "206eeddf",
   "metadata": {},
   "outputs": [],
   "source": [
    "s_array = np.array(5)"
   ]
  },
  {
   "cell_type": "code",
   "execution_count": 174,
   "id": "df51bdff",
   "metadata": {},
   "outputs": [
    {
     "data": {
      "text/plain": [
       "numpy.ndarray"
      ]
     },
     "execution_count": 174,
     "metadata": {},
     "output_type": "execute_result"
    }
   ],
   "source": [
    "type(s_array)"
   ]
  },
  {
   "cell_type": "code",
   "execution_count": 175,
   "id": "fb37d137",
   "metadata": {},
   "outputs": [],
   "source": [
    "#DataShapes"
   ]
  },
  {
   "cell_type": "code",
   "execution_count": 176,
   "id": "33da8373",
   "metadata": {},
   "outputs": [
    {
     "data": {
      "text/plain": [
       "()"
      ]
     },
     "execution_count": 176,
     "metadata": {},
     "output_type": "execute_result"
    }
   ],
   "source": [
    "s_array.shape"
   ]
  },
  {
   "cell_type": "code",
   "execution_count": 177,
   "id": "ce156f20",
   "metadata": {},
   "outputs": [
    {
     "data": {
      "text/plain": [
       "(4,)"
      ]
     },
     "execution_count": 177,
     "metadata": {},
     "output_type": "execute_result"
    }
   ],
   "source": [
    "v.shape"
   ]
  },
  {
   "cell_type": "code",
   "execution_count": 178,
   "id": "b4cd87bf",
   "metadata": {},
   "outputs": [
    {
     "data": {
      "text/plain": [
       "(2, 3)"
      ]
     },
     "execution_count": 178,
     "metadata": {},
     "output_type": "execute_result"
    }
   ],
   "source": [
    "m.shape\n"
   ]
  },
  {
   "cell_type": "code",
   "execution_count": 179,
   "id": "054836ce",
   "metadata": {},
   "outputs": [
    {
     "data": {
      "text/plain": [
       "array([[1, 2, 3, 4]])"
      ]
     },
     "execution_count": 179,
     "metadata": {},
     "output_type": "execute_result"
    }
   ],
   "source": [
    "v.reshape(1,4)"
   ]
  },
  {
   "cell_type": "code",
   "execution_count": 180,
   "id": "0003fd8b",
   "metadata": {},
   "outputs": [
    {
     "data": {
      "text/plain": [
       "array([[1],\n",
       "       [2],\n",
       "       [3],\n",
       "       [4]])"
      ]
     },
     "execution_count": 180,
     "metadata": {},
     "output_type": "execute_result"
    }
   ],
   "source": [
    "v.reshape(4,1)"
   ]
  },
  {
   "cell_type": "code",
   "execution_count": 181,
   "id": "2ab460d9",
   "metadata": {},
   "outputs": [],
   "source": [
    "#Matrices Additon\n",
    "#Condition: Two matrices must have same dimensions"
   ]
  },
  {
   "cell_type": "code",
   "execution_count": 182,
   "id": "93dd5bc0",
   "metadata": {},
   "outputs": [],
   "source": [
    "m1 = np.array([[1,2,3],[4,5,6]])\n",
    "m2 = np.array([[4,5,6],[1,2,3]])"
   ]
  },
  {
   "cell_type": "code",
   "execution_count": 183,
   "id": "be4ef29e",
   "metadata": {},
   "outputs": [
    {
     "data": {
      "text/plain": [
       "array([[5, 7, 9],\n",
       "       [5, 7, 9]])"
      ]
     },
     "execution_count": 183,
     "metadata": {},
     "output_type": "execute_result"
    }
   ],
   "source": [
    "m1 + m2"
   ]
  },
  {
   "cell_type": "code",
   "execution_count": 184,
   "id": "8f8b3461",
   "metadata": {},
   "outputs": [
    {
     "data": {
      "text/plain": [
       "array([[-3, -3, -3],\n",
       "       [ 3,  3,  3]])"
      ]
     },
     "execution_count": 184,
     "metadata": {},
     "output_type": "execute_result"
    }
   ],
   "source": [
    "#Subtraction\n",
    "m1-m2"
   ]
  },
  {
   "cell_type": "code",
   "execution_count": 185,
   "id": "1c0aed35",
   "metadata": {},
   "outputs": [
    {
     "data": {
      "text/plain": [
       "array([[2, 3, 4],\n",
       "       [5, 6, 7]])"
      ]
     },
     "execution_count": 185,
     "metadata": {},
     "output_type": "execute_result"
    }
   ],
   "source": [
    "#Scaler Addtion with matrices\n",
    "1+m1"
   ]
  },
  {
   "cell_type": "code",
   "execution_count": 186,
   "id": "cc1032dd",
   "metadata": {},
   "outputs": [
    {
     "data": {
      "text/plain": [
       "array([2, 3, 4, 5])"
      ]
     },
     "execution_count": 186,
     "metadata": {},
     "output_type": "execute_result"
    }
   ],
   "source": [
    "v + np.array(1)"
   ]
  },
  {
   "cell_type": "code",
   "execution_count": 187,
   "id": "d3902f1f",
   "metadata": {},
   "outputs": [],
   "source": [
    "#Transpose\n",
    "#Important considrations\n",
    "#1)Values are not changing or tranforming only their position is\n",
    "#2)Transposing the same vector (object) twice yields the initial vector (object)\n",
    "#3)A 3x1 matrix transpose is a 1x3 matrix"
   ]
  },
  {
   "cell_type": "code",
   "execution_count": 188,
   "id": "87fde8e3",
   "metadata": {},
   "outputs": [
    {
     "data": {
      "text/plain": [
       "(2, 3)"
      ]
     },
     "execution_count": 188,
     "metadata": {},
     "output_type": "execute_result"
    }
   ],
   "source": [
    "m1.shape\n"
   ]
  },
  {
   "cell_type": "code",
   "execution_count": 189,
   "id": "b12375fe",
   "metadata": {},
   "outputs": [],
   "source": [
    "m3 = m1.T"
   ]
  },
  {
   "cell_type": "code",
   "execution_count": 190,
   "id": "1f41aee4",
   "metadata": {},
   "outputs": [
    {
     "data": {
      "text/plain": [
       "array([[1, 4],\n",
       "       [2, 5],\n",
       "       [3, 6]])"
      ]
     },
     "execution_count": 190,
     "metadata": {},
     "output_type": "execute_result"
    }
   ],
   "source": [
    "m3"
   ]
  },
  {
   "cell_type": "code",
   "execution_count": 191,
   "id": "cbe340ca",
   "metadata": {},
   "outputs": [
    {
     "data": {
      "text/plain": [
       "(3, 2)"
      ]
     },
     "execution_count": 191,
     "metadata": {},
     "output_type": "execute_result"
    }
   ],
   "source": [
    "m3.shape"
   ]
  },
  {
   "cell_type": "code",
   "execution_count": 192,
   "id": "2a0a9364",
   "metadata": {},
   "outputs": [
    {
     "data": {
      "text/plain": [
       "array(5)"
      ]
     },
     "execution_count": 192,
     "metadata": {},
     "output_type": "execute_result"
    }
   ],
   "source": [
    "#Scaler transpose: Any scaler transpose is itself\n",
    "s_array.T\n"
   ]
  },
  {
   "cell_type": "code",
   "execution_count": 193,
   "id": "3faa6e06",
   "metadata": {},
   "outputs": [
    {
     "data": {
      "text/plain": [
       "(4,)"
      ]
     },
     "execution_count": 193,
     "metadata": {},
     "output_type": "execute_result"
    }
   ],
   "source": [
    "#Vector Transpose: one dimestions arrays don't get transposed\n",
    "v.shape\n"
   ]
  },
  {
   "cell_type": "code",
   "execution_count": 194,
   "id": "e07ca890",
   "metadata": {},
   "outputs": [
    {
     "data": {
      "text/plain": [
       "array([1, 2, 3, 4])"
      ]
     },
     "execution_count": 194,
     "metadata": {},
     "output_type": "execute_result"
    }
   ],
   "source": [
    "v.T"
   ]
  },
  {
   "cell_type": "code",
   "execution_count": 195,
   "id": "c21e50ed",
   "metadata": {},
   "outputs": [
    {
     "data": {
      "text/plain": [
       "array([[1, 2, 3, 4]])"
      ]
     },
     "execution_count": 195,
     "metadata": {},
     "output_type": "execute_result"
    }
   ],
   "source": [
    "v_reshaped = v.reshape(1,4)\n",
    "v_reshaped"
   ]
  },
  {
   "cell_type": "code",
   "execution_count": 196,
   "id": "cfa3d940",
   "metadata": {},
   "outputs": [
    {
     "data": {
      "text/plain": [
       "array([[1],\n",
       "       [2],\n",
       "       [3],\n",
       "       [4]])"
      ]
     },
     "execution_count": 196,
     "metadata": {},
     "output_type": "execute_result"
    }
   ],
   "source": [
    "v_reshaped.T"
   ]
  },
  {
   "cell_type": "code",
   "execution_count": 197,
   "id": "35cc137a",
   "metadata": {},
   "outputs": [],
   "source": [
    "#Vector Multiplication: Sum of the product of corresponding element\n",
    "#Conditon: They must have same length\n",
    "#Dot or inner product\n",
    "#Tensor or outer product\n",
    "#Multiplication of two vector is a scaler"
   ]
  },
  {
   "cell_type": "code",
   "execution_count": 198,
   "id": "8b1d6ac4",
   "metadata": {},
   "outputs": [],
   "source": [
    "#Dot product"
   ]
  },
  {
   "cell_type": "code",
   "execution_count": 199,
   "id": "e85d664e",
   "metadata": {},
   "outputs": [],
   "source": [
    "x1 = np.array([0,2,3,4])\n",
    "x2 = np.array([4,2,4,1])\n"
   ]
  },
  {
   "cell_type": "code",
   "execution_count": 200,
   "id": "0929e0be",
   "metadata": {},
   "outputs": [
    {
     "data": {
      "text/plain": [
       "20"
      ]
     },
     "execution_count": 200,
     "metadata": {},
     "output_type": "execute_result"
    }
   ],
   "source": [
    "np.dot(x1,x2)"
   ]
  },
  {
   "cell_type": "code",
   "execution_count": 201,
   "id": "bd7a9a50",
   "metadata": {},
   "outputs": [],
   "source": [
    "#Scaler * Scaler\n"
   ]
  },
  {
   "cell_type": "code",
   "execution_count": 202,
   "id": "caa1a3c1",
   "metadata": {},
   "outputs": [
    {
     "data": {
      "text/plain": [
       "252"
      ]
     },
     "execution_count": 202,
     "metadata": {},
     "output_type": "execute_result"
    }
   ],
   "source": [
    "np.dot(12,21)"
   ]
  },
  {
   "cell_type": "code",
   "execution_count": 203,
   "id": "b4f933dd",
   "metadata": {},
   "outputs": [],
   "source": [
    "#Vector * Scaler\n"
   ]
  },
  {
   "cell_type": "code",
   "execution_count": 204,
   "id": "613bfabe",
   "metadata": {},
   "outputs": [
    {
     "data": {
      "text/plain": [
       "array([0, 2, 3, 4])"
      ]
     },
     "execution_count": 204,
     "metadata": {},
     "output_type": "execute_result"
    }
   ],
   "source": [
    "x1"
   ]
  },
  {
   "cell_type": "code",
   "execution_count": 205,
   "id": "0930647e",
   "metadata": {},
   "outputs": [
    {
     "data": {
      "text/plain": [
       "array([ 0, 10, 15, 20])"
      ]
     },
     "execution_count": 205,
     "metadata": {},
     "output_type": "execute_result"
    }
   ],
   "source": [
    "x1*5"
   ]
  },
  {
   "cell_type": "code",
   "execution_count": 206,
   "id": "89336470",
   "metadata": {},
   "outputs": [],
   "source": [
    "#Scaler * Matrices"
   ]
  },
  {
   "cell_type": "code",
   "execution_count": 207,
   "id": "3112bb11",
   "metadata": {},
   "outputs": [
    {
     "data": {
      "text/plain": [
       "array([[1, 2, 3],\n",
       "       [4, 5, 6]])"
      ]
     },
     "execution_count": 207,
     "metadata": {},
     "output_type": "execute_result"
    }
   ],
   "source": [
    "m1"
   ]
  },
  {
   "cell_type": "code",
   "execution_count": 208,
   "id": "1a2eb64a",
   "metadata": {},
   "outputs": [
    {
     "data": {
      "text/plain": [
       "array([[ 2,  4,  6],\n",
       "       [ 8, 10, 12]])"
      ]
     },
     "execution_count": 208,
     "metadata": {},
     "output_type": "execute_result"
    }
   ],
   "source": [
    "m1*2"
   ]
  },
  {
   "cell_type": "code",
   "execution_count": 209,
   "id": "57585900",
   "metadata": {},
   "outputs": [],
   "source": [
    "#Matrices * Matrices\n",
    "#Condotion: Can only multiply m x n with an n x k \n",
    "#output m x n * n x k = m x k"
   ]
  },
  {
   "cell_type": "code",
   "execution_count": 210,
   "id": "688ea28d",
   "metadata": {},
   "outputs": [],
   "source": [
    "m1=np.array([[5 , 12 ,6],[-3,0,14]])\n",
    "m2=np.array([[2,-1],[8,0],[3,0]])"
   ]
  },
  {
   "cell_type": "code",
   "execution_count": 211,
   "id": "815dae78",
   "metadata": {},
   "outputs": [
    {
     "data": {
      "text/plain": [
       "array([[124,  -5],\n",
       "       [ 36,   3]])"
      ]
     },
     "execution_count": 211,
     "metadata": {},
     "output_type": "execute_result"
    }
   ],
   "source": [
    "np.dot(m1,m2)"
   ]
  },
  {
   "cell_type": "code",
   "execution_count": 212,
   "id": "d4f1f88d",
   "metadata": {},
   "outputs": [],
   "source": [
    "m1=np.array([[1],[2],[3]]) #1 by 3\n",
    "m2=np.array([[1],[2],[3]]) #3 by 1"
   ]
  },
  {
   "cell_type": "code",
   "execution_count": 213,
   "id": "7694a50d",
   "metadata": {},
   "outputs": [
    {
     "data": {
      "text/plain": [
       "array([[1, 2, 3],\n",
       "       [2, 4, 6],\n",
       "       [3, 6, 9]])"
      ]
     },
     "execution_count": 213,
     "metadata": {},
     "output_type": "execute_result"
    }
   ],
   "source": [
    "np.dot(m1,m2.T)\n"
   ]
  },
  {
   "cell_type": "code",
   "execution_count": 214,
   "id": "35cb128b",
   "metadata": {},
   "outputs": [
    {
     "data": {
      "text/plain": [
       "array([1, 2, 3])"
      ]
     },
     "execution_count": 214,
     "metadata": {},
     "output_type": "execute_result"
    }
   ],
   "source": [
    "array_a = np.array([1,2,3])\n",
    "array_a"
   ]
  },
  {
   "cell_type": "code",
   "execution_count": 215,
   "id": "2134f381",
   "metadata": {},
   "outputs": [
    {
     "data": {
      "text/plain": [
       "array([[1, 2, 3],\n",
       "       [2, 1, 4]])"
      ]
     },
     "execution_count": 215,
     "metadata": {},
     "output_type": "execute_result"
    }
   ],
   "source": [
    "array_b = np.array([[1,2,3],[2,1,4]])\n",
    "array_b"
   ]
  },
  {
   "cell_type": "code",
   "execution_count": 216,
   "id": "c65dcdbc",
   "metadata": {},
   "outputs": [
    {
     "data": {
      "text/plain": [
       "2.1666666666666665"
      ]
     },
     "execution_count": 216,
     "metadata": {},
     "output_type": "execute_result"
    }
   ],
   "source": [
    "np.mean(array_b)"
   ]
  },
  {
   "cell_type": "code",
   "execution_count": 217,
   "id": "941f28a8",
   "metadata": {},
   "outputs": [],
   "source": [
    "#Pandas Basics"
   ]
  },
  {
   "cell_type": "code",
   "execution_count": 218,
   "id": "c4bd531c",
   "metadata": {},
   "outputs": [
    {
     "data": {
      "text/plain": [
       "list"
      ]
     },
     "execution_count": 218,
     "metadata": {},
     "output_type": "execute_result"
    }
   ],
   "source": [
    "products=['A','B']\n",
    "type(products)"
   ]
  },
  {
   "cell_type": "code",
   "execution_count": 219,
   "id": "d1e3f744",
   "metadata": {},
   "outputs": [
    {
     "data": {
      "text/plain": [
       "0    A\n",
       "1    B\n",
       "dtype: object"
      ]
     },
     "execution_count": 219,
     "metadata": {},
     "output_type": "execute_result"
    }
   ],
   "source": [
    "product_categories=pd.Series(products)\n",
    "product_categories"
   ]
  },
  {
   "cell_type": "code",
   "execution_count": 220,
   "id": "a8e0785c",
   "metadata": {},
   "outputs": [],
   "source": [
    "#Always store same type of data in series"
   ]
  },
  {
   "cell_type": "code",
   "execution_count": 221,
   "id": "84d011b3",
   "metadata": {},
   "outputs": [
    {
     "data": {
      "text/plain": [
       "array([1, 2, 3, 4, 5])"
      ]
     },
     "execution_count": 221,
     "metadata": {},
     "output_type": "execute_result"
    }
   ],
   "source": [
    "array1 = np.array([1,2,3,4,5])\n",
    "array1"
   ]
  },
  {
   "cell_type": "code",
   "execution_count": 222,
   "id": "6d0fca96",
   "metadata": {},
   "outputs": [
    {
     "data": {
      "text/plain": [
       "0    1\n",
       "1    2\n",
       "2    3\n",
       "3    4\n",
       "4    5\n",
       "dtype: int32"
      ]
     },
     "execution_count": 222,
     "metadata": {},
     "output_type": "execute_result"
    }
   ],
   "source": [
    "series1=pd.Series(array1)\n",
    "series1 "
   ]
  },
  {
   "cell_type": "code",
   "execution_count": 223,
   "id": "9061ba09",
   "metadata": {},
   "outputs": [
    {
     "data": {
      "text/plain": [
       "dtype('int32')"
      ]
     },
     "execution_count": 223,
     "metadata": {},
     "output_type": "execute_result"
    }
   ],
   "source": [
    "series1.dtypes"
   ]
  },
  {
   "cell_type": "code",
   "execution_count": 224,
   "id": "4363b544",
   "metadata": {},
   "outputs": [
    {
     "data": {
      "text/plain": [
       "dtype('int32')"
      ]
     },
     "execution_count": 224,
     "metadata": {},
     "output_type": "execute_result"
    }
   ],
   "source": [
    "series1.dtype"
   ]
  },
  {
   "cell_type": "code",
   "execution_count": 225,
   "id": "4138e124",
   "metadata": {},
   "outputs": [
    {
     "data": {
      "text/plain": [
       "5"
      ]
     },
     "execution_count": 225,
     "metadata": {},
     "output_type": "execute_result"
    }
   ],
   "source": [
    "series1.size"
   ]
  },
  {
   "cell_type": "code",
   "execution_count": 226,
   "id": "097f0053",
   "metadata": {},
   "outputs": [
    {
     "data": {
      "text/plain": [
       "dtype('O')"
      ]
     },
     "execution_count": 226,
     "metadata": {},
     "output_type": "execute_result"
    }
   ],
   "source": [
    "product_categories.dtype"
   ]
  },
  {
   "cell_type": "code",
   "execution_count": 227,
   "id": "c948d539",
   "metadata": {},
   "outputs": [
    {
     "data": {
      "text/plain": [
       "2"
      ]
     },
     "execution_count": 227,
     "metadata": {},
     "output_type": "execute_result"
    }
   ],
   "source": [
    "product_categories.size"
   ]
  },
  {
   "cell_type": "code",
   "execution_count": 228,
   "id": "d607d166",
   "metadata": {},
   "outputs": [],
   "source": [
    "product_categories.name = \"Product Categories\""
   ]
  },
  {
   "cell_type": "code",
   "execution_count": 229,
   "id": "bdc34131",
   "metadata": {},
   "outputs": [
    {
     "data": {
      "text/plain": [
       "'Product Categories'"
      ]
     },
     "execution_count": 229,
     "metadata": {},
     "output_type": "execute_result"
    }
   ],
   "source": [
    "product_categories.name\n"
   ]
  },
  {
   "cell_type": "code",
   "execution_count": 230,
   "id": "5463c174",
   "metadata": {},
   "outputs": [
    {
     "data": {
      "text/plain": [
       "{'Product A': 121, 'Product B': 41121, 'Product C': 12211}"
      ]
     },
     "execution_count": 230,
     "metadata": {},
     "output_type": "execute_result"
    }
   ],
   "source": [
    "#Understanding indexes in pandas\n",
    "dict1 = {'Product A': 121,'Product B': 41121,'Product C': 12211}\n",
    "dict1"
   ]
  },
  {
   "cell_type": "code",
   "execution_count": 231,
   "id": "60deca85",
   "metadata": {},
   "outputs": [
    {
     "data": {
      "text/plain": [
       "dict"
      ]
     },
     "execution_count": 231,
     "metadata": {},
     "output_type": "execute_result"
    }
   ],
   "source": [
    "type(dict1)"
   ]
  },
  {
   "cell_type": "code",
   "execution_count": 232,
   "id": "67f2b4ca",
   "metadata": {},
   "outputs": [
    {
     "data": {
      "text/plain": [
       "Product A      121\n",
       "Product B    41121\n",
       "Product C    12211\n",
       "dtype: int64"
      ]
     },
     "execution_count": 232,
     "metadata": {},
     "output_type": "execute_result"
    }
   ],
   "source": [
    "DictIntoSeries= pd.Series(dict1)\n",
    "DictIntoSeries "
   ]
  },
  {
   "cell_type": "code",
   "execution_count": 233,
   "id": "40dbd81b",
   "metadata": {},
   "outputs": [
    {
     "data": {
      "text/plain": [
       "pandas.core.series.Series"
      ]
     },
     "execution_count": 233,
     "metadata": {},
     "output_type": "execute_result"
    }
   ],
   "source": [
    "type(DictIntoSeries)"
   ]
  },
  {
   "cell_type": "code",
   "execution_count": 234,
   "id": "5f48bf90",
   "metadata": {},
   "outputs": [
    {
     "data": {
      "text/plain": [
       "Index(['Product A', 'Product B', 'Product C'], dtype='object')"
      ]
     },
     "execution_count": 234,
     "metadata": {},
     "output_type": "execute_result"
    }
   ],
   "source": [
    "DictIntoSeries.index"
   ]
  },
  {
   "cell_type": "code",
   "execution_count": 242,
   "id": "c6e44c30",
   "metadata": {},
   "outputs": [
    {
     "data": {
      "text/plain": [
       "RangeIndex(start=0, stop=5, step=1)"
      ]
     },
     "execution_count": 242,
     "metadata": {},
     "output_type": "execute_result"
    }
   ],
   "source": [
    "#Label based vs Position based indexing\n",
    "series1.index"
   ]
  },
  {
   "cell_type": "code",
   "execution_count": 243,
   "id": "ad60a833",
   "metadata": {},
   "outputs": [
    {
     "data": {
      "text/plain": [
       "pandas.core.indexes.range.RangeIndex"
      ]
     },
     "execution_count": 243,
     "metadata": {},
     "output_type": "execute_result"
    }
   ],
   "source": [
    "type(series1.index)"
   ]
  },
  {
   "cell_type": "code",
   "execution_count": 249,
   "id": "c7603014",
   "metadata": {},
   "outputs": [
    {
     "data": {
      "text/plain": [
       "[0, 1, 2, 3, 4]"
      ]
     },
     "execution_count": 249,
     "metadata": {},
     "output_type": "execute_result"
    }
   ],
   "source": [
    "list(series1.index)"
   ]
  },
  {
   "cell_type": "code",
   "execution_count": 253,
   "id": "abece8c8",
   "metadata": {},
   "outputs": [
    {
     "data": {
      "text/plain": [
       "0    1\n",
       "1    2\n",
       "2    3\n",
       "3    4\n",
       "4    5\n",
       "dtype: int32"
      ]
     },
     "execution_count": 253,
     "metadata": {},
     "output_type": "execute_result"
    }
   ],
   "source": [
    "series1 #Implicit Indexing or zero based/position based indexing"
   ]
  },
  {
   "cell_type": "code",
   "execution_count": 254,
   "id": "0790e8b9",
   "metadata": {},
   "outputs": [
    {
     "data": {
      "text/plain": [
       "Product A      121\n",
       "Product B    41121\n",
       "Product C    12211\n",
       "dtype: int64"
      ]
     },
     "execution_count": 254,
     "metadata": {},
     "output_type": "execute_result"
    }
   ],
   "source": [
    "DictIntoSeries #Explicit Indexing or label based Indexing"
   ]
  },
  {
   "cell_type": "code",
   "execution_count": 255,
   "id": "3c1a8ac7",
   "metadata": {},
   "outputs": [],
   "source": [
    "start_date_deposite = pd.Series({'7/4/2014':2000 , '7/5/2014':1000 , '7/6/2014':5000})"
   ]
  },
  {
   "cell_type": "code",
   "execution_count": 262,
   "id": "0afe01a3",
   "metadata": {},
   "outputs": [
    {
     "data": {
      "text/plain": [
       "8000"
      ]
     },
     "execution_count": 262,
     "metadata": {},
     "output_type": "execute_result"
    }
   ],
   "source": [
    "start_date_deposite.sum()\n"
   ]
  },
  {
   "cell_type": "code",
   "execution_count": 263,
   "id": "c3316449",
   "metadata": {},
   "outputs": [
    {
     "data": {
      "text/plain": [
       "5000"
      ]
     },
     "execution_count": 263,
     "metadata": {},
     "output_type": "execute_result"
    }
   ],
   "source": [
    "start_date_deposite.max()"
   ]
  },
  {
   "cell_type": "code",
   "execution_count": 264,
   "id": "cbb1720a",
   "metadata": {},
   "outputs": [
    {
     "data": {
      "text/plain": [
       "1000"
      ]
     },
     "execution_count": 264,
     "metadata": {},
     "output_type": "execute_result"
    }
   ],
   "source": [
    "start_date_deposite.min()"
   ]
  },
  {
   "cell_type": "code",
   "execution_count": 265,
   "id": "ad06e8ed",
   "metadata": {},
   "outputs": [
    {
     "data": {
      "text/plain": [
       "'7/6/2014'"
      ]
     },
     "execution_count": 265,
     "metadata": {},
     "output_type": "execute_result"
    }
   ],
   "source": [
    "start_date_deposite.idxmax()"
   ]
  },
  {
   "cell_type": "code",
   "execution_count": 266,
   "id": "da1424ec",
   "metadata": {},
   "outputs": [
    {
     "data": {
      "text/plain": [
       "'7/5/2014'"
      ]
     },
     "execution_count": 266,
     "metadata": {},
     "output_type": "execute_result"
    }
   ],
   "source": [
    "start_date_deposite.idxmin()"
   ]
  },
  {
   "cell_type": "code",
   "execution_count": 267,
   "id": "40757d06",
   "metadata": {},
   "outputs": [
    {
     "data": {
      "text/plain": [
       "2666.6666666666665"
      ]
     },
     "execution_count": 267,
     "metadata": {},
     "output_type": "execute_result"
    }
   ],
   "source": [
    "start_date_deposite.mean()"
   ]
  },
  {
   "cell_type": "code",
   "execution_count": 268,
   "id": "97646abf",
   "metadata": {},
   "outputs": [
    {
     "data": {
      "text/plain": [
       "2000.0"
      ]
     },
     "execution_count": 268,
     "metadata": {},
     "output_type": "execute_result"
    }
   ],
   "source": [
    "start_date_deposite.median()"
   ]
  },
  {
   "cell_type": "code",
   "execution_count": 269,
   "id": "2f12db94",
   "metadata": {},
   "outputs": [
    {
     "data": {
      "text/plain": [
       "2081.6659994661327"
      ]
     },
     "execution_count": 269,
     "metadata": {},
     "output_type": "execute_result"
    }
   ],
   "source": [
    "start_date_deposite.std()"
   ]
  },
  {
   "cell_type": "code",
   "execution_count": null,
   "id": "fa737981",
   "metadata": {},
   "outputs": [],
   "source": []
  }
 ],
 "metadata": {
  "kernelspec": {
   "display_name": "Python 3 (ipykernel)",
   "language": "python",
   "name": "python3"
  },
  "language_info": {
   "codemirror_mode": {
    "name": "ipython",
    "version": 3
   },
   "file_extension": ".py",
   "mimetype": "text/x-python",
   "name": "python",
   "nbconvert_exporter": "python",
   "pygments_lexer": "ipython3",
   "version": "3.11.3"
  }
 },
 "nbformat": 4,
 "nbformat_minor": 5
}
