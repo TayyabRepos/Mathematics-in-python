{
 "cells": [
  {
   "cell_type": "code",
   "execution_count": 179,
   "id": "a583a0b6",
   "metadata": {},
   "outputs": [],
   "source": [
    "#Import libs"
   ]
  },
  {
   "cell_type": "code",
   "execution_count": 180,
   "id": "e87eab92",
   "metadata": {},
   "outputs": [],
   "source": [
    "import numpy as np"
   ]
  },
  {
   "cell_type": "code",
   "execution_count": 181,
   "id": "b7469e7e",
   "metadata": {},
   "outputs": [],
   "source": [
    "#Declare scaler vectors and matrices"
   ]
  },
  {
   "cell_type": "code",
   "execution_count": 182,
   "id": "b3d8ed6d",
   "metadata": {},
   "outputs": [],
   "source": [
    "#Scaler"
   ]
  },
  {
   "cell_type": "code",
   "execution_count": 183,
   "id": "26b9b4ab",
   "metadata": {
    "pycharm": {
     "is_executing": true
    }
   },
   "outputs": [],
   "source": [
    "s = 5\n"
   ]
  },
  {
   "cell_type": "code",
   "execution_count": 184,
   "id": "eee75ec9",
   "metadata": {},
   "outputs": [
    {
     "data": {
      "text/plain": [
       "5"
      ]
     },
     "execution_count": 184,
     "metadata": {},
     "output_type": "execute_result"
    }
   ],
   "source": [
    "s\n"
   ]
  },
  {
   "cell_type": "code",
   "execution_count": 185,
   "id": "a2dd75cf",
   "metadata": {},
   "outputs": [],
   "source": [
    "v = np.array([1,2,3,4])"
   ]
  },
  {
   "cell_type": "code",
   "execution_count": 186,
   "id": "2c21aa48",
   "metadata": {},
   "outputs": [
    {
     "data": {
      "text/plain": [
       "array([1, 2, 3, 4])"
      ]
     },
     "execution_count": 186,
     "metadata": {},
     "output_type": "execute_result"
    }
   ],
   "source": [
    "v"
   ]
  },
  {
   "cell_type": "code",
   "execution_count": 187,
   "id": "fa768d67",
   "metadata": {},
   "outputs": [],
   "source": [
    "#Matrices"
   ]
  },
  {
   "cell_type": "code",
   "execution_count": 188,
   "id": "f44a7063",
   "metadata": {},
   "outputs": [],
   "source": [
    "m = np.array([[1,2,3],[4,5,6]])"
   ]
  },
  {
   "cell_type": "code",
   "execution_count": 189,
   "id": "e33ea206",
   "metadata": {},
   "outputs": [
    {
     "data": {
      "text/plain": [
       "array([[1, 2, 3],\n",
       "       [4, 5, 6]])"
      ]
     },
     "execution_count": 189,
     "metadata": {},
     "output_type": "execute_result"
    }
   ],
   "source": [
    "m"
   ]
  },
  {
   "cell_type": "code",
   "execution_count": 190,
   "id": "42097cb3",
   "metadata": {},
   "outputs": [],
   "source": [
    "#DataTypes"
   ]
  },
  {
   "cell_type": "code",
   "execution_count": 191,
   "id": "db8556d3",
   "metadata": {},
   "outputs": [
    {
     "data": {
      "text/plain": [
       "int"
      ]
     },
     "execution_count": 191,
     "metadata": {},
     "output_type": "execute_result"
    }
   ],
   "source": [
    "type(s)"
   ]
  },
  {
   "cell_type": "code",
   "execution_count": 192,
   "id": "89b7f5ab",
   "metadata": {},
   "outputs": [
    {
     "data": {
      "text/plain": [
       "numpy.ndarray"
      ]
     },
     "execution_count": 192,
     "metadata": {},
     "output_type": "execute_result"
    }
   ],
   "source": [
    "type(v)"
   ]
  },
  {
   "cell_type": "code",
   "execution_count": 193,
   "id": "1b807005",
   "metadata": {},
   "outputs": [
    {
     "data": {
      "text/plain": [
       "numpy.ndarray"
      ]
     },
     "execution_count": 193,
     "metadata": {},
     "output_type": "execute_result"
    }
   ],
   "source": [
    "type(m)"
   ]
  },
  {
   "cell_type": "code",
   "execution_count": 194,
   "id": "206eeddf",
   "metadata": {},
   "outputs": [],
   "source": [
    "s_array = np.array(5)"
   ]
  },
  {
   "cell_type": "code",
   "execution_count": 195,
   "id": "df51bdff",
   "metadata": {},
   "outputs": [
    {
     "data": {
      "text/plain": [
       "numpy.ndarray"
      ]
     },
     "execution_count": 195,
     "metadata": {},
     "output_type": "execute_result"
    }
   ],
   "source": [
    "type(s_array)"
   ]
  },
  {
   "cell_type": "code",
   "execution_count": 196,
   "id": "fb37d137",
   "metadata": {},
   "outputs": [],
   "source": [
    "#DataShapes"
   ]
  },
  {
   "cell_type": "code",
   "execution_count": 197,
   "id": "33da8373",
   "metadata": {},
   "outputs": [
    {
     "data": {
      "text/plain": [
       "()"
      ]
     },
     "execution_count": 197,
     "metadata": {},
     "output_type": "execute_result"
    }
   ],
   "source": [
    "s_array.shape"
   ]
  },
  {
   "cell_type": "code",
   "execution_count": 198,
   "id": "ce156f20",
   "metadata": {},
   "outputs": [
    {
     "data": {
      "text/plain": [
       "(4,)"
      ]
     },
     "execution_count": 198,
     "metadata": {},
     "output_type": "execute_result"
    }
   ],
   "source": [
    "v.shape"
   ]
  },
  {
   "cell_type": "code",
   "execution_count": 199,
   "id": "b4cd87bf",
   "metadata": {},
   "outputs": [
    {
     "data": {
      "text/plain": [
       "(2, 3)"
      ]
     },
     "execution_count": 199,
     "metadata": {},
     "output_type": "execute_result"
    }
   ],
   "source": [
    "m.shape\n"
   ]
  },
  {
   "cell_type": "code",
   "execution_count": 200,
   "id": "054836ce",
   "metadata": {},
   "outputs": [
    {
     "data": {
      "text/plain": [
       "array([[1, 2, 3, 4]])"
      ]
     },
     "execution_count": 200,
     "metadata": {},
     "output_type": "execute_result"
    }
   ],
   "source": [
    "v.reshape(1,4)"
   ]
  },
  {
   "cell_type": "code",
   "execution_count": 201,
   "id": "0003fd8b",
   "metadata": {},
   "outputs": [
    {
     "data": {
      "text/plain": [
       "array([[1],\n",
       "       [2],\n",
       "       [3],\n",
       "       [4]])"
      ]
     },
     "execution_count": 201,
     "metadata": {},
     "output_type": "execute_result"
    }
   ],
   "source": [
    "v.reshape(4,1)"
   ]
  },
  {
   "cell_type": "code",
   "execution_count": 202,
   "id": "2ab460d9",
   "metadata": {},
   "outputs": [],
   "source": [
    "#Matrices Additon\n",
    "#Condition: Two matrices must have same dimensions"
   ]
  },
  {
   "cell_type": "code",
   "execution_count": 203,
   "id": "93dd5bc0",
   "metadata": {},
   "outputs": [],
   "source": [
    "m1 = np.array([[1,2,3],[4,5,6]])\n",
    "m2 = np.array([[4,5,6],[1,2,3]])"
   ]
  },
  {
   "cell_type": "code",
   "execution_count": 204,
   "id": "be4ef29e",
   "metadata": {},
   "outputs": [
    {
     "data": {
      "text/plain": [
       "array([[5, 7, 9],\n",
       "       [5, 7, 9]])"
      ]
     },
     "execution_count": 204,
     "metadata": {},
     "output_type": "execute_result"
    }
   ],
   "source": [
    "m1 + m2"
   ]
  },
  {
   "cell_type": "code",
   "execution_count": 205,
   "id": "8f8b3461",
   "metadata": {},
   "outputs": [
    {
     "data": {
      "text/plain": [
       "array([[-3, -3, -3],\n",
       "       [ 3,  3,  3]])"
      ]
     },
     "execution_count": 205,
     "metadata": {},
     "output_type": "execute_result"
    }
   ],
   "source": [
    "#Subtraction\n",
    "m1-m2"
   ]
  },
  {
   "cell_type": "code",
   "execution_count": 206,
   "id": "1c0aed35",
   "metadata": {},
   "outputs": [
    {
     "data": {
      "text/plain": [
       "array([[2, 3, 4],\n",
       "       [5, 6, 7]])"
      ]
     },
     "execution_count": 206,
     "metadata": {},
     "output_type": "execute_result"
    }
   ],
   "source": [
    "#Scaler Addtion with matrices\n",
    "1+m1"
   ]
  },
  {
   "cell_type": "code",
   "execution_count": 207,
   "id": "cc1032dd",
   "metadata": {},
   "outputs": [
    {
     "data": {
      "text/plain": [
       "array([2, 3, 4, 5])"
      ]
     },
     "execution_count": 207,
     "metadata": {},
     "output_type": "execute_result"
    }
   ],
   "source": [
    "v + np.array(1)"
   ]
  },
  {
   "cell_type": "code",
   "execution_count": 208,
   "id": "d3902f1f",
   "metadata": {},
   "outputs": [],
   "source": [
    "#Transpose\n",
    "#Important considrations\n",
    "#1)Values are not changing or tranforming only their position is\n",
    "#2)Transposing the same vector (object) twice yields the initial vector (object)\n",
    "#3)A 3x1 matrix transpose is a 1x3 matrix"
   ]
  },
  {
   "cell_type": "code",
   "execution_count": 209,
   "id": "87fde8e3",
   "metadata": {},
   "outputs": [
    {
     "data": {
      "text/plain": [
       "(2, 3)"
      ]
     },
     "execution_count": 209,
     "metadata": {},
     "output_type": "execute_result"
    }
   ],
   "source": [
    "m1.shape\n"
   ]
  },
  {
   "cell_type": "code",
   "execution_count": 210,
   "id": "b12375fe",
   "metadata": {},
   "outputs": [],
   "source": [
    "m3 = m1.T"
   ]
  },
  {
   "cell_type": "code",
   "execution_count": 211,
   "id": "1f41aee4",
   "metadata": {},
   "outputs": [
    {
     "data": {
      "text/plain": [
       "array([[1, 4],\n",
       "       [2, 5],\n",
       "       [3, 6]])"
      ]
     },
     "execution_count": 211,
     "metadata": {},
     "output_type": "execute_result"
    }
   ],
   "source": [
    "m3"
   ]
  },
  {
   "cell_type": "code",
   "execution_count": 212,
   "id": "cbe340ca",
   "metadata": {},
   "outputs": [
    {
     "data": {
      "text/plain": [
       "(3, 2)"
      ]
     },
     "execution_count": 212,
     "metadata": {},
     "output_type": "execute_result"
    }
   ],
   "source": [
    "m3.shape"
   ]
  },
  {
   "cell_type": "code",
   "execution_count": 213,
   "id": "2a0a9364",
   "metadata": {},
   "outputs": [
    {
     "data": {
      "text/plain": [
       "array(5)"
      ]
     },
     "execution_count": 213,
     "metadata": {},
     "output_type": "execute_result"
    }
   ],
   "source": [
    "#Scaler transpose: Any scaler transpose is itself\n",
    "s_array.T\n"
   ]
  },
  {
   "cell_type": "code",
   "execution_count": 214,
   "id": "3faa6e06",
   "metadata": {},
   "outputs": [
    {
     "data": {
      "text/plain": [
       "(4,)"
      ]
     },
     "execution_count": 214,
     "metadata": {},
     "output_type": "execute_result"
    }
   ],
   "source": [
    "#Vector Transpose: one dimestions arrays don't get transposed\n",
    "v.shape\n"
   ]
  },
  {
   "cell_type": "code",
   "execution_count": 215,
   "id": "e07ca890",
   "metadata": {},
   "outputs": [
    {
     "data": {
      "text/plain": [
       "array([1, 2, 3, 4])"
      ]
     },
     "execution_count": 215,
     "metadata": {},
     "output_type": "execute_result"
    }
   ],
   "source": [
    "v.T"
   ]
  },
  {
   "cell_type": "code",
   "execution_count": 216,
   "id": "c21e50ed",
   "metadata": {},
   "outputs": [
    {
     "data": {
      "text/plain": [
       "array([[1, 2, 3, 4]])"
      ]
     },
     "execution_count": 216,
     "metadata": {},
     "output_type": "execute_result"
    }
   ],
   "source": [
    "v_reshaped = v.reshape(1,4)\n",
    "v_reshaped\n"
   ]
  },
  {
   "cell_type": "code",
   "execution_count": 217,
   "id": "cfa3d940",
   "metadata": {},
   "outputs": [
    {
     "data": {
      "text/plain": [
       "array([[1],\n",
       "       [2],\n",
       "       [3],\n",
       "       [4]])"
      ]
     },
     "execution_count": 217,
     "metadata": {},
     "output_type": "execute_result"
    }
   ],
   "source": [
    "v_reshaped.T"
   ]
  },
  {
   "cell_type": "code",
   "execution_count": 218,
   "id": "35cc137a",
   "metadata": {},
   "outputs": [],
   "source": [
    "#Vector Multiplication: Sum of the product of corresponding element\n",
    "#Conditon: They must have same length\n",
    "#Dot or inner product\n",
    "#Tensor or outer product\n",
    "#Multiplication of two vector is a scaler"
   ]
  },
  {
   "cell_type": "code",
   "execution_count": 219,
   "id": "8b1d6ac4",
   "metadata": {},
   "outputs": [],
   "source": [
    "#Dot product"
   ]
  },
  {
   "cell_type": "code",
   "execution_count": 220,
   "id": "e85d664e",
   "metadata": {},
   "outputs": [],
   "source": [
    "x1 = np.array([0,2,3,4])\n",
    "x2 = np.array([4,2,4,1])\n"
   ]
  },
  {
   "cell_type": "code",
   "execution_count": 221,
   "id": "0929e0be",
   "metadata": {},
   "outputs": [
    {
     "data": {
      "text/plain": [
       "20"
      ]
     },
     "execution_count": 221,
     "metadata": {},
     "output_type": "execute_result"
    }
   ],
   "source": [
    "np.dot(x1,x2)"
   ]
  },
  {
   "cell_type": "code",
   "execution_count": 222,
   "id": "bd7a9a50",
   "metadata": {},
   "outputs": [],
   "source": [
    "#Scaler * Scaler\n"
   ]
  },
  {
   "cell_type": "code",
   "execution_count": 223,
   "id": "caa1a3c1",
   "metadata": {},
   "outputs": [
    {
     "data": {
      "text/plain": [
       "252"
      ]
     },
     "execution_count": 223,
     "metadata": {},
     "output_type": "execute_result"
    }
   ],
   "source": [
    "np.dot(12,21)"
   ]
  },
  {
   "cell_type": "code",
   "execution_count": 224,
   "id": "b4f933dd",
   "metadata": {},
   "outputs": [],
   "source": [
    "#Vector * Scaler\n"
   ]
  },
  {
   "cell_type": "code",
   "execution_count": 225,
   "id": "613bfabe",
   "metadata": {},
   "outputs": [
    {
     "data": {
      "text/plain": [
       "array([0, 2, 3, 4])"
      ]
     },
     "execution_count": 225,
     "metadata": {},
     "output_type": "execute_result"
    }
   ],
   "source": [
    "x1"
   ]
  },
  {
   "cell_type": "code",
   "execution_count": 226,
   "id": "0930647e",
   "metadata": {},
   "outputs": [
    {
     "data": {
      "text/plain": [
       "array([ 0, 10, 15, 20])"
      ]
     },
     "execution_count": 226,
     "metadata": {},
     "output_type": "execute_result"
    }
   ],
   "source": [
    "x1*5"
   ]
  },
  {
   "cell_type": "code",
   "execution_count": 227,
   "id": "89336470",
   "metadata": {},
   "outputs": [],
   "source": [
    "#Scaler * Matrices"
   ]
  },
  {
   "cell_type": "code",
   "execution_count": 228,
   "id": "3112bb11",
   "metadata": {},
   "outputs": [
    {
     "data": {
      "text/plain": [
       "array([[1, 2, 3],\n",
       "       [4, 5, 6]])"
      ]
     },
     "execution_count": 228,
     "metadata": {},
     "output_type": "execute_result"
    }
   ],
   "source": [
    "m1"
   ]
  },
  {
   "cell_type": "code",
   "execution_count": 229,
   "id": "1a2eb64a",
   "metadata": {},
   "outputs": [
    {
     "data": {
      "text/plain": [
       "array([[ 2,  4,  6],\n",
       "       [ 8, 10, 12]])"
      ]
     },
     "execution_count": 229,
     "metadata": {},
     "output_type": "execute_result"
    }
   ],
   "source": [
    "m1*2"
   ]
  },
  {
   "cell_type": "code",
   "execution_count": 230,
   "id": "57585900",
   "metadata": {},
   "outputs": [],
   "source": [
    "#Matrices * Matrices\n",
    "#Condotion: Can only multiply m x n with an n x k \n",
    "#output m x n * n x k = m x k"
   ]
  },
  {
   "cell_type": "code",
   "execution_count": 231,
   "id": "688ea28d",
   "metadata": {},
   "outputs": [],
   "source": [
    "m1=np.array([[5 , 12 ,6],[-3,0,14]])\n",
    "m2=np.array([[2,-1],[8,0],[3,0]])"
   ]
  },
  {
   "cell_type": "code",
   "execution_count": 232,
   "id": "815dae78",
   "metadata": {},
   "outputs": [
    {
     "data": {
      "text/plain": [
       "array([[124,  -5],\n",
       "       [ 36,   3]])"
      ]
     },
     "execution_count": 232,
     "metadata": {},
     "output_type": "execute_result"
    }
   ],
   "source": [
    "np.dot(m1,m2)"
   ]
  },
  {
   "cell_type": "code",
   "execution_count": 233,
   "id": "d4f1f88d",
   "metadata": {},
   "outputs": [],
   "source": [
    "m1=np.array([[1],[2],[3]]) #1 by 3\n",
    "m2=np.array([[1],[2],[3]]) #3 by 1"
   ]
  },
  {
   "cell_type": "code",
   "execution_count": 234,
   "id": "7694a50d",
   "metadata": {},
   "outputs": [
    {
     "data": {
      "text/plain": [
       "array([[1, 2, 3],\n",
       "       [2, 4, 6],\n",
       "       [3, 6, 9]])"
      ]
     },
     "execution_count": 234,
     "metadata": {},
     "output_type": "execute_result"
    }
   ],
   "source": [
    "np.dot(m1,m2.T)\n"
   ]
  },
  {
   "cell_type": "code",
   "execution_count": 235,
   "id": "35cb128b",
   "metadata": {},
   "outputs": [
    {
     "data": {
      "text/plain": [
       "array([1, 2, 3])"
      ]
     },
     "execution_count": 235,
     "metadata": {},
     "output_type": "execute_result"
    }
   ],
   "source": [
    "array_a = np.array([1,2,3])\n",
    "array_a"
   ]
  },
  {
   "cell_type": "code",
   "execution_count": 236,
   "id": "2134f381",
   "metadata": {},
   "outputs": [
    {
     "data": {
      "text/plain": [
       "array([[1, 2, 3],\n",
       "       [2, 1, 4]])"
      ]
     },
     "execution_count": 236,
     "metadata": {},
     "output_type": "execute_result"
    }
   ],
   "source": [
    "array_b = np.array([[1,2,3],[2,1,4]])\n",
    "array_b"
   ]
  },
  {
   "cell_type": "code",
   "execution_count": 237,
   "id": "c65dcdbc",
   "metadata": {},
   "outputs": [
    {
     "data": {
      "text/plain": [
       "2.1666666666666665"
      ]
     },
     "execution_count": 237,
     "metadata": {},
     "output_type": "execute_result"
    }
   ],
   "source": [
    "np.mean(array_b)"
   ]
  },
  {
   "cell_type": "code",
   "execution_count": null,
   "id": "941f28a8",
   "metadata": {},
   "outputs": [],
   "source": []
  },
  {
   "cell_type": "code",
   "execution_count": null,
   "id": "c4bd531c",
   "metadata": {},
   "outputs": [],
   "source": []
  }
 ],
 "metadata": {
  "kernelspec": {
   "display_name": "Python 3 (ipykernel)",
   "language": "python",
   "name": "python3"
  },
  "language_info": {
   "codemirror_mode": {
    "name": "ipython",
    "version": 3
   },
   "file_extension": ".py",
   "mimetype": "text/x-python",
   "name": "python",
   "nbconvert_exporter": "python",
   "pygments_lexer": "ipython3",
   "version": "3.11.2"
  }
 },
 "nbformat": 4,
 "nbformat_minor": 5
}
