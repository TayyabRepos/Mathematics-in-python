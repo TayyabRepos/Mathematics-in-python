{
 "cells": [
  {
   "cell_type": "code",
   "execution_count": 1,
   "id": "a583a0b6",
   "metadata": {},
   "outputs": [],
   "source": [
    "#Import libs"
   ]
  },
  {
   "cell_type": "code",
   "execution_count": 2,
   "id": "e87eab92",
   "metadata": {},
   "outputs": [],
   "source": [
    "import numpy as np\n",
    "import pandas as pd"
   ]
  },
  {
   "cell_type": "code",
   "execution_count": 3,
   "id": "b7469e7e",
   "metadata": {},
   "outputs": [],
   "source": [
    "#Declare scaler vectors and matrices"
   ]
  },
  {
   "cell_type": "code",
   "execution_count": 4,
   "id": "b3d8ed6d",
   "metadata": {},
   "outputs": [],
   "source": [
    "#Scaler"
   ]
  },
  {
   "cell_type": "code",
   "execution_count": 5,
   "id": "26b9b4ab",
   "metadata": {
    "pycharm": {
     "is_executing": true
    }
   },
   "outputs": [],
   "source": [
    "s = 5\n"
   ]
  },
  {
   "cell_type": "code",
   "execution_count": 6,
   "id": "eee75ec9",
   "metadata": {},
   "outputs": [
    {
     "data": {
      "text/plain": [
       "5"
      ]
     },
     "execution_count": 6,
     "metadata": {},
     "output_type": "execute_result"
    }
   ],
   "source": [
    "s\n"
   ]
  },
  {
   "cell_type": "code",
   "execution_count": 7,
   "id": "a2dd75cf",
   "metadata": {},
   "outputs": [],
   "source": [
    "v = np.array([1,2,3,4])"
   ]
  },
  {
   "cell_type": "code",
   "execution_count": 8,
   "id": "2c21aa48",
   "metadata": {},
   "outputs": [
    {
     "data": {
      "text/plain": [
       "array([1, 2, 3, 4])"
      ]
     },
     "execution_count": 8,
     "metadata": {},
     "output_type": "execute_result"
    }
   ],
   "source": [
    "v"
   ]
  },
  {
   "cell_type": "code",
   "execution_count": 9,
   "id": "fa768d67",
   "metadata": {},
   "outputs": [],
   "source": [
    "#Matrices"
   ]
  },
  {
   "cell_type": "code",
   "execution_count": 10,
   "id": "f44a7063",
   "metadata": {},
   "outputs": [],
   "source": [
    "m = np.array([[1,2,3],[4,5,6]])"
   ]
  },
  {
   "cell_type": "code",
   "execution_count": 11,
   "id": "e33ea206",
   "metadata": {},
   "outputs": [
    {
     "data": {
      "text/plain": [
       "array([[1, 2, 3],\n",
       "       [4, 5, 6]])"
      ]
     },
     "execution_count": 11,
     "metadata": {},
     "output_type": "execute_result"
    }
   ],
   "source": [
    "m"
   ]
  },
  {
   "cell_type": "code",
   "execution_count": 12,
   "id": "42097cb3",
   "metadata": {},
   "outputs": [],
   "source": [
    "#DataTypes"
   ]
  },
  {
   "cell_type": "code",
   "execution_count": 13,
   "id": "db8556d3",
   "metadata": {},
   "outputs": [
    {
     "data": {
      "text/plain": [
       "int"
      ]
     },
     "execution_count": 13,
     "metadata": {},
     "output_type": "execute_result"
    }
   ],
   "source": [
    "type(s)"
   ]
  },
  {
   "cell_type": "code",
   "execution_count": 14,
   "id": "89b7f5ab",
   "metadata": {},
   "outputs": [
    {
     "data": {
      "text/plain": [
       "numpy.ndarray"
      ]
     },
     "execution_count": 14,
     "metadata": {},
     "output_type": "execute_result"
    }
   ],
   "source": [
    "type(v)"
   ]
  },
  {
   "cell_type": "code",
   "execution_count": 15,
   "id": "1b807005",
   "metadata": {},
   "outputs": [
    {
     "data": {
      "text/plain": [
       "numpy.ndarray"
      ]
     },
     "execution_count": 15,
     "metadata": {},
     "output_type": "execute_result"
    }
   ],
   "source": [
    "type(m)"
   ]
  },
  {
   "cell_type": "code",
   "execution_count": 16,
   "id": "206eeddf",
   "metadata": {},
   "outputs": [],
   "source": [
    "s_array = np.array(5)"
   ]
  },
  {
   "cell_type": "code",
   "execution_count": 17,
   "id": "df51bdff",
   "metadata": {},
   "outputs": [
    {
     "data": {
      "text/plain": [
       "numpy.ndarray"
      ]
     },
     "execution_count": 17,
     "metadata": {},
     "output_type": "execute_result"
    }
   ],
   "source": [
    "type(s_array)"
   ]
  },
  {
   "cell_type": "code",
   "execution_count": 18,
   "id": "fb37d137",
   "metadata": {},
   "outputs": [],
   "source": [
    "#DataShapes"
   ]
  },
  {
   "cell_type": "code",
   "execution_count": 19,
   "id": "33da8373",
   "metadata": {},
   "outputs": [
    {
     "data": {
      "text/plain": [
       "()"
      ]
     },
     "execution_count": 19,
     "metadata": {},
     "output_type": "execute_result"
    }
   ],
   "source": [
    "s_array.shape"
   ]
  },
  {
   "cell_type": "code",
   "execution_count": 20,
   "id": "ce156f20",
   "metadata": {},
   "outputs": [
    {
     "data": {
      "text/plain": [
       "(4,)"
      ]
     },
     "execution_count": 20,
     "metadata": {},
     "output_type": "execute_result"
    }
   ],
   "source": [
    "v.shape"
   ]
  },
  {
   "cell_type": "code",
   "execution_count": 21,
   "id": "b4cd87bf",
   "metadata": {},
   "outputs": [
    {
     "data": {
      "text/plain": [
       "(2, 3)"
      ]
     },
     "execution_count": 21,
     "metadata": {},
     "output_type": "execute_result"
    }
   ],
   "source": [
    "m.shape\n"
   ]
  },
  {
   "cell_type": "code",
   "execution_count": 22,
   "id": "054836ce",
   "metadata": {},
   "outputs": [
    {
     "data": {
      "text/plain": [
       "array([[1, 2, 3, 4]])"
      ]
     },
     "execution_count": 22,
     "metadata": {},
     "output_type": "execute_result"
    }
   ],
   "source": [
    "v.reshape(1,4)"
   ]
  },
  {
   "cell_type": "code",
   "execution_count": 23,
   "id": "0003fd8b",
   "metadata": {},
   "outputs": [
    {
     "data": {
      "text/plain": [
       "array([[1],\n",
       "       [2],\n",
       "       [3],\n",
       "       [4]])"
      ]
     },
     "execution_count": 23,
     "metadata": {},
     "output_type": "execute_result"
    }
   ],
   "source": [
    "v.reshape(4,1)"
   ]
  },
  {
   "cell_type": "code",
   "execution_count": 24,
   "id": "2ab460d9",
   "metadata": {},
   "outputs": [],
   "source": [
    "#Matrices Additon\n",
    "#Condition: Two matrices must have same dimensions"
   ]
  },
  {
   "cell_type": "code",
   "execution_count": 25,
   "id": "93dd5bc0",
   "metadata": {},
   "outputs": [],
   "source": [
    "m1 = np.array([[1,2,3],[4,5,6]])\n",
    "m2 = np.array([[4,5,6],[1,2,3]])"
   ]
  },
  {
   "cell_type": "code",
   "execution_count": 26,
   "id": "be4ef29e",
   "metadata": {},
   "outputs": [
    {
     "data": {
      "text/plain": [
       "array([[5, 7, 9],\n",
       "       [5, 7, 9]])"
      ]
     },
     "execution_count": 26,
     "metadata": {},
     "output_type": "execute_result"
    }
   ],
   "source": [
    "m1 + m2"
   ]
  },
  {
   "cell_type": "code",
   "execution_count": 27,
   "id": "8f8b3461",
   "metadata": {},
   "outputs": [
    {
     "data": {
      "text/plain": [
       "array([[-3, -3, -3],\n",
       "       [ 3,  3,  3]])"
      ]
     },
     "execution_count": 27,
     "metadata": {},
     "output_type": "execute_result"
    }
   ],
   "source": [
    "#Subtraction\n",
    "m1-m2"
   ]
  },
  {
   "cell_type": "code",
   "execution_count": 28,
   "id": "1c0aed35",
   "metadata": {},
   "outputs": [
    {
     "data": {
      "text/plain": [
       "array([[2, 3, 4],\n",
       "       [5, 6, 7]])"
      ]
     },
     "execution_count": 28,
     "metadata": {},
     "output_type": "execute_result"
    }
   ],
   "source": [
    "#Scaler Addtion with matrices\n",
    "1+m1"
   ]
  },
  {
   "cell_type": "code",
   "execution_count": 29,
   "id": "cc1032dd",
   "metadata": {},
   "outputs": [
    {
     "data": {
      "text/plain": [
       "array([2, 3, 4, 5])"
      ]
     },
     "execution_count": 29,
     "metadata": {},
     "output_type": "execute_result"
    }
   ],
   "source": [
    "v + np.array(1)"
   ]
  },
  {
   "cell_type": "code",
   "execution_count": 30,
   "id": "d3902f1f",
   "metadata": {},
   "outputs": [],
   "source": [
    "#Transpose\n",
    "#Important considrations\n",
    "#1)Values are not changing or tranforming only their position is\n",
    "#2)Transposing the same vector (object) twice yields the initial vector (object)\n",
    "#3)A 3x1 matrix transpose is a 1x3 matrix"
   ]
  },
  {
   "cell_type": "code",
   "execution_count": 31,
   "id": "87fde8e3",
   "metadata": {},
   "outputs": [
    {
     "data": {
      "text/plain": [
       "(2, 3)"
      ]
     },
     "execution_count": 31,
     "metadata": {},
     "output_type": "execute_result"
    }
   ],
   "source": [
    "m1.shape\n"
   ]
  },
  {
   "cell_type": "code",
   "execution_count": 32,
   "id": "b12375fe",
   "metadata": {},
   "outputs": [],
   "source": [
    "m3 = m1.T"
   ]
  },
  {
   "cell_type": "code",
   "execution_count": 33,
   "id": "1f41aee4",
   "metadata": {},
   "outputs": [
    {
     "data": {
      "text/plain": [
       "array([[1, 4],\n",
       "       [2, 5],\n",
       "       [3, 6]])"
      ]
     },
     "execution_count": 33,
     "metadata": {},
     "output_type": "execute_result"
    }
   ],
   "source": [
    "m3"
   ]
  },
  {
   "cell_type": "code",
   "execution_count": 34,
   "id": "cbe340ca",
   "metadata": {},
   "outputs": [
    {
     "data": {
      "text/plain": [
       "(3, 2)"
      ]
     },
     "execution_count": 34,
     "metadata": {},
     "output_type": "execute_result"
    }
   ],
   "source": [
    "m3.shape"
   ]
  },
  {
   "cell_type": "code",
   "execution_count": 35,
   "id": "2a0a9364",
   "metadata": {},
   "outputs": [
    {
     "data": {
      "text/plain": [
       "array(5)"
      ]
     },
     "execution_count": 35,
     "metadata": {},
     "output_type": "execute_result"
    }
   ],
   "source": [
    "#Scaler transpose: Any scaler transpose is itself\n",
    "s_array.T\n"
   ]
  },
  {
   "cell_type": "code",
   "execution_count": 36,
   "id": "3faa6e06",
   "metadata": {},
   "outputs": [
    {
     "data": {
      "text/plain": [
       "(4,)"
      ]
     },
     "execution_count": 36,
     "metadata": {},
     "output_type": "execute_result"
    }
   ],
   "source": [
    "#Vector Transpose: one dimestions arrays don't get transposed\n",
    "v.shape\n"
   ]
  },
  {
   "cell_type": "code",
   "execution_count": 37,
   "id": "e07ca890",
   "metadata": {},
   "outputs": [
    {
     "data": {
      "text/plain": [
       "array([1, 2, 3, 4])"
      ]
     },
     "execution_count": 37,
     "metadata": {},
     "output_type": "execute_result"
    }
   ],
   "source": [
    "v.T"
   ]
  },
  {
   "cell_type": "code",
   "execution_count": 38,
   "id": "c21e50ed",
   "metadata": {},
   "outputs": [
    {
     "data": {
      "text/plain": [
       "array([[1, 2, 3, 4]])"
      ]
     },
     "execution_count": 38,
     "metadata": {},
     "output_type": "execute_result"
    }
   ],
   "source": [
    "v_reshaped = v.reshape(1,4)\n",
    "v_reshaped"
   ]
  },
  {
   "cell_type": "code",
   "execution_count": 39,
   "id": "cfa3d940",
   "metadata": {},
   "outputs": [
    {
     "data": {
      "text/plain": [
       "array([[1],\n",
       "       [2],\n",
       "       [3],\n",
       "       [4]])"
      ]
     },
     "execution_count": 39,
     "metadata": {},
     "output_type": "execute_result"
    }
   ],
   "source": [
    "v_reshaped.T"
   ]
  },
  {
   "cell_type": "code",
   "execution_count": 40,
   "id": "35cc137a",
   "metadata": {},
   "outputs": [],
   "source": [
    "#Vector Multiplication: Sum of the product of corresponding element\n",
    "#Conditon: They must have same length\n",
    "#Dot or inner product\n",
    "#Tensor or outer product\n",
    "#Multiplication of two vector is a scaler"
   ]
  },
  {
   "cell_type": "code",
   "execution_count": 41,
   "id": "8b1d6ac4",
   "metadata": {},
   "outputs": [],
   "source": [
    "#Dot product"
   ]
  },
  {
   "cell_type": "code",
   "execution_count": 42,
   "id": "e85d664e",
   "metadata": {},
   "outputs": [],
   "source": [
    "x1 = np.array([0,2,3,4])\n",
    "x2 = np.array([4,2,4,1])\n"
   ]
  },
  {
   "cell_type": "code",
   "execution_count": 43,
   "id": "0929e0be",
   "metadata": {},
   "outputs": [
    {
     "data": {
      "text/plain": [
       "20"
      ]
     },
     "execution_count": 43,
     "metadata": {},
     "output_type": "execute_result"
    }
   ],
   "source": [
    "np.dot(x1,x2)"
   ]
  },
  {
   "cell_type": "code",
   "execution_count": 44,
   "id": "bd7a9a50",
   "metadata": {},
   "outputs": [],
   "source": [
    "#Scaler * Scaler\n"
   ]
  },
  {
   "cell_type": "code",
   "execution_count": 45,
   "id": "caa1a3c1",
   "metadata": {},
   "outputs": [
    {
     "data": {
      "text/plain": [
       "252"
      ]
     },
     "execution_count": 45,
     "metadata": {},
     "output_type": "execute_result"
    }
   ],
   "source": [
    "np.dot(12,21)"
   ]
  },
  {
   "cell_type": "code",
   "execution_count": 46,
   "id": "b4f933dd",
   "metadata": {},
   "outputs": [],
   "source": [
    "#Vector * Scaler\n"
   ]
  },
  {
   "cell_type": "code",
   "execution_count": 47,
   "id": "613bfabe",
   "metadata": {},
   "outputs": [
    {
     "data": {
      "text/plain": [
       "array([0, 2, 3, 4])"
      ]
     },
     "execution_count": 47,
     "metadata": {},
     "output_type": "execute_result"
    }
   ],
   "source": [
    "x1"
   ]
  },
  {
   "cell_type": "code",
   "execution_count": 48,
   "id": "0930647e",
   "metadata": {},
   "outputs": [
    {
     "data": {
      "text/plain": [
       "array([ 0, 10, 15, 20])"
      ]
     },
     "execution_count": 48,
     "metadata": {},
     "output_type": "execute_result"
    }
   ],
   "source": [
    "x1*5"
   ]
  },
  {
   "cell_type": "code",
   "execution_count": 49,
   "id": "89336470",
   "metadata": {},
   "outputs": [],
   "source": [
    "#Scaler * Matrices"
   ]
  },
  {
   "cell_type": "code",
   "execution_count": 50,
   "id": "3112bb11",
   "metadata": {},
   "outputs": [
    {
     "data": {
      "text/plain": [
       "array([[1, 2, 3],\n",
       "       [4, 5, 6]])"
      ]
     },
     "execution_count": 50,
     "metadata": {},
     "output_type": "execute_result"
    }
   ],
   "source": [
    "m1"
   ]
  },
  {
   "cell_type": "code",
   "execution_count": 51,
   "id": "1a2eb64a",
   "metadata": {},
   "outputs": [
    {
     "data": {
      "text/plain": [
       "array([[ 2,  4,  6],\n",
       "       [ 8, 10, 12]])"
      ]
     },
     "execution_count": 51,
     "metadata": {},
     "output_type": "execute_result"
    }
   ],
   "source": [
    "m1*2"
   ]
  },
  {
   "cell_type": "code",
   "execution_count": 52,
   "id": "57585900",
   "metadata": {},
   "outputs": [],
   "source": [
    "#Matrices * Matrices\n",
    "#Condotion: Can only multiply m x n with an n x k \n",
    "#output m x n * n x k = m x k"
   ]
  },
  {
   "cell_type": "code",
   "execution_count": 53,
   "id": "688ea28d",
   "metadata": {},
   "outputs": [],
   "source": [
    "m1=np.array([[5 , 12 ,6],[-3,0,14]])\n",
    "m2=np.array([[2,-1],[8,0],[3,0]])"
   ]
  },
  {
   "cell_type": "code",
   "execution_count": 54,
   "id": "815dae78",
   "metadata": {},
   "outputs": [
    {
     "data": {
      "text/plain": [
       "array([[124,  -5],\n",
       "       [ 36,   3]])"
      ]
     },
     "execution_count": 54,
     "metadata": {},
     "output_type": "execute_result"
    }
   ],
   "source": [
    "np.dot(m1,m2)"
   ]
  },
  {
   "cell_type": "code",
   "execution_count": 55,
   "id": "d4f1f88d",
   "metadata": {},
   "outputs": [],
   "source": [
    "m1=np.array([[1],[2],[3]]) #1 by 3\n",
    "m2=np.array([[1],[2],[3]]) #3 by 1"
   ]
  },
  {
   "cell_type": "code",
   "execution_count": 56,
   "id": "7694a50d",
   "metadata": {},
   "outputs": [
    {
     "data": {
      "text/plain": [
       "array([[1, 2, 3],\n",
       "       [2, 4, 6],\n",
       "       [3, 6, 9]])"
      ]
     },
     "execution_count": 56,
     "metadata": {},
     "output_type": "execute_result"
    }
   ],
   "source": [
    "np.dot(m1,m2.T)\n"
   ]
  },
  {
   "cell_type": "code",
   "execution_count": 57,
   "id": "35cb128b",
   "metadata": {},
   "outputs": [
    {
     "data": {
      "text/plain": [
       "array([1, 2, 3])"
      ]
     },
     "execution_count": 57,
     "metadata": {},
     "output_type": "execute_result"
    }
   ],
   "source": [
    "array_a = np.array([1,2,3])\n",
    "array_a"
   ]
  },
  {
   "cell_type": "code",
   "execution_count": 58,
   "id": "2134f381",
   "metadata": {},
   "outputs": [
    {
     "data": {
      "text/plain": [
       "array([[1, 2, 3],\n",
       "       [2, 1, 4]])"
      ]
     },
     "execution_count": 58,
     "metadata": {},
     "output_type": "execute_result"
    }
   ],
   "source": [
    "array_b = np.array([[1,2,3],[2,1,4]])\n",
    "array_b"
   ]
  },
  {
   "cell_type": "code",
   "execution_count": 59,
   "id": "c65dcdbc",
   "metadata": {},
   "outputs": [
    {
     "data": {
      "text/plain": [
       "2.1666666666666665"
      ]
     },
     "execution_count": 59,
     "metadata": {},
     "output_type": "execute_result"
    }
   ],
   "source": [
    "np.mean(array_b)"
   ]
  },
  {
   "cell_type": "code",
   "execution_count": 60,
   "id": "941f28a8",
   "metadata": {},
   "outputs": [],
   "source": [
    "#Pandas Basics"
   ]
  },
  {
   "cell_type": "code",
   "execution_count": 61,
   "id": "c4bd531c",
   "metadata": {},
   "outputs": [
    {
     "data": {
      "text/plain": [
       "list"
      ]
     },
     "execution_count": 61,
     "metadata": {},
     "output_type": "execute_result"
    }
   ],
   "source": [
    "products=['A','B']\n",
    "type(products)"
   ]
  },
  {
   "cell_type": "code",
   "execution_count": 62,
   "id": "d1e3f744",
   "metadata": {},
   "outputs": [
    {
     "data": {
      "text/plain": [
       "0    A\n",
       "1    B\n",
       "dtype: object"
      ]
     },
     "execution_count": 62,
     "metadata": {},
     "output_type": "execute_result"
    }
   ],
   "source": [
    "product_categories=pd.Series(products)\n",
    "product_categories"
   ]
  },
  {
   "cell_type": "code",
   "execution_count": 63,
   "id": "a8e0785c",
   "metadata": {},
   "outputs": [],
   "source": [
    "#Always store same type of data in series"
   ]
  },
  {
   "cell_type": "code",
   "execution_count": 64,
   "id": "84d011b3",
   "metadata": {},
   "outputs": [
    {
     "data": {
      "text/plain": [
       "array([1, 2, 3, 4, 5])"
      ]
     },
     "execution_count": 64,
     "metadata": {},
     "output_type": "execute_result"
    }
   ],
   "source": [
    "array1 = np.array([1,2,3,4,5])\n",
    "array1"
   ]
  },
  {
   "cell_type": "code",
   "execution_count": 65,
   "id": "6d0fca96",
   "metadata": {},
   "outputs": [
    {
     "data": {
      "text/plain": [
       "0    1\n",
       "1    2\n",
       "2    3\n",
       "3    4\n",
       "4    5\n",
       "dtype: int32"
      ]
     },
     "execution_count": 65,
     "metadata": {},
     "output_type": "execute_result"
    }
   ],
   "source": [
    "series1=pd.Series(array1)\n",
    "series1 "
   ]
  },
  {
   "cell_type": "code",
   "execution_count": 66,
   "id": "9061ba09",
   "metadata": {},
   "outputs": [
    {
     "data": {
      "text/plain": [
       "dtype('int32')"
      ]
     },
     "execution_count": 66,
     "metadata": {},
     "output_type": "execute_result"
    }
   ],
   "source": [
    "series1.dtypes"
   ]
  },
  {
   "cell_type": "code",
   "execution_count": 67,
   "id": "4363b544",
   "metadata": {},
   "outputs": [
    {
     "data": {
      "text/plain": [
       "dtype('int32')"
      ]
     },
     "execution_count": 67,
     "metadata": {},
     "output_type": "execute_result"
    }
   ],
   "source": [
    "series1.dtype"
   ]
  },
  {
   "cell_type": "code",
   "execution_count": 68,
   "id": "4138e124",
   "metadata": {},
   "outputs": [
    {
     "data": {
      "text/plain": [
       "5"
      ]
     },
     "execution_count": 68,
     "metadata": {},
     "output_type": "execute_result"
    }
   ],
   "source": [
    "series1.size"
   ]
  },
  {
   "cell_type": "code",
   "execution_count": 69,
   "id": "097f0053",
   "metadata": {},
   "outputs": [
    {
     "data": {
      "text/plain": [
       "dtype('O')"
      ]
     },
     "execution_count": 69,
     "metadata": {},
     "output_type": "execute_result"
    }
   ],
   "source": [
    "product_categories.dtype"
   ]
  },
  {
   "cell_type": "code",
   "execution_count": 70,
   "id": "c948d539",
   "metadata": {},
   "outputs": [
    {
     "data": {
      "text/plain": [
       "2"
      ]
     },
     "execution_count": 70,
     "metadata": {},
     "output_type": "execute_result"
    }
   ],
   "source": [
    "product_categories.size"
   ]
  },
  {
   "cell_type": "code",
   "execution_count": 71,
   "id": "d607d166",
   "metadata": {},
   "outputs": [],
   "source": [
    "product_categories.name = \"Product Categories\""
   ]
  },
  {
   "cell_type": "code",
   "execution_count": 72,
   "id": "bdc34131",
   "metadata": {},
   "outputs": [
    {
     "data": {
      "text/plain": [
       "'Product Categories'"
      ]
     },
     "execution_count": 72,
     "metadata": {},
     "output_type": "execute_result"
    }
   ],
   "source": [
    "product_categories.name\n"
   ]
  },
  {
   "cell_type": "code",
   "execution_count": 73,
   "id": "5463c174",
   "metadata": {},
   "outputs": [
    {
     "data": {
      "text/plain": [
       "{'Product A': 121, 'Product B': 41121, 'Product C': 12211}"
      ]
     },
     "execution_count": 73,
     "metadata": {},
     "output_type": "execute_result"
    }
   ],
   "source": [
    "#Understanding indexes in pandas\n",
    "dict1 = {'Product A': 121,'Product B': 41121,'Product C': 12211}\n",
    "dict1"
   ]
  },
  {
   "cell_type": "code",
   "execution_count": 74,
   "id": "60deca85",
   "metadata": {},
   "outputs": [
    {
     "data": {
      "text/plain": [
       "dict"
      ]
     },
     "execution_count": 74,
     "metadata": {},
     "output_type": "execute_result"
    }
   ],
   "source": [
    "type(dict1)"
   ]
  },
  {
   "cell_type": "code",
   "execution_count": 75,
   "id": "67f2b4ca",
   "metadata": {},
   "outputs": [
    {
     "data": {
      "text/plain": [
       "Product A      121\n",
       "Product B    41121\n",
       "Product C    12211\n",
       "dtype: int64"
      ]
     },
     "execution_count": 75,
     "metadata": {},
     "output_type": "execute_result"
    }
   ],
   "source": [
    "DictIntoSeries= pd.Series(dict1)\n",
    "DictIntoSeries "
   ]
  },
  {
   "cell_type": "code",
   "execution_count": 76,
   "id": "40dbd81b",
   "metadata": {},
   "outputs": [
    {
     "data": {
      "text/plain": [
       "pandas.core.series.Series"
      ]
     },
     "execution_count": 76,
     "metadata": {},
     "output_type": "execute_result"
    }
   ],
   "source": [
    "type(DictIntoSeries)"
   ]
  },
  {
   "cell_type": "code",
   "execution_count": 77,
   "id": "5f48bf90",
   "metadata": {},
   "outputs": [
    {
     "data": {
      "text/plain": [
       "Index(['Product A', 'Product B', 'Product C'], dtype='object')"
      ]
     },
     "execution_count": 77,
     "metadata": {},
     "output_type": "execute_result"
    }
   ],
   "source": [
    "DictIntoSeries.index"
   ]
  },
  {
   "cell_type": "code",
   "execution_count": 78,
   "id": "c6e44c30",
   "metadata": {},
   "outputs": [
    {
     "data": {
      "text/plain": [
       "RangeIndex(start=0, stop=5, step=1)"
      ]
     },
     "execution_count": 78,
     "metadata": {},
     "output_type": "execute_result"
    }
   ],
   "source": [
    "#Label based vs Position based indexing\n",
    "series1.index"
   ]
  },
  {
   "cell_type": "code",
   "execution_count": 79,
   "id": "ad60a833",
   "metadata": {},
   "outputs": [
    {
     "data": {
      "text/plain": [
       "pandas.core.indexes.range.RangeIndex"
      ]
     },
     "execution_count": 79,
     "metadata": {},
     "output_type": "execute_result"
    }
   ],
   "source": [
    "type(series1.index)"
   ]
  },
  {
   "cell_type": "code",
   "execution_count": 80,
   "id": "c7603014",
   "metadata": {},
   "outputs": [
    {
     "data": {
      "text/plain": [
       "[0, 1, 2, 3, 4]"
      ]
     },
     "execution_count": 80,
     "metadata": {},
     "output_type": "execute_result"
    }
   ],
   "source": [
    "list(series1.index)"
   ]
  },
  {
   "cell_type": "code",
   "execution_count": 81,
   "id": "abece8c8",
   "metadata": {},
   "outputs": [
    {
     "data": {
      "text/plain": [
       "0    1\n",
       "1    2\n",
       "2    3\n",
       "3    4\n",
       "4    5\n",
       "dtype: int32"
      ]
     },
     "execution_count": 81,
     "metadata": {},
     "output_type": "execute_result"
    }
   ],
   "source": [
    "series1 #Implicit Indexing or zero based/position based indexing"
   ]
  },
  {
   "cell_type": "code",
   "execution_count": 82,
   "id": "0790e8b9",
   "metadata": {},
   "outputs": [
    {
     "data": {
      "text/plain": [
       "Product A      121\n",
       "Product B    41121\n",
       "Product C    12211\n",
       "dtype: int64"
      ]
     },
     "execution_count": 82,
     "metadata": {},
     "output_type": "execute_result"
    }
   ],
   "source": [
    "DictIntoSeries #Explicit Indexing or label based Indexing"
   ]
  },
  {
   "cell_type": "code",
   "execution_count": 83,
   "id": "3c1a8ac7",
   "metadata": {},
   "outputs": [],
   "source": [
    "start_date_deposite = pd.Series({'7/4/2014':2000 , '7/5/2014':1000 , '7/6/2014':5000})"
   ]
  },
  {
   "cell_type": "code",
   "execution_count": 84,
   "id": "0afe01a3",
   "metadata": {},
   "outputs": [
    {
     "data": {
      "text/plain": [
       "8000"
      ]
     },
     "execution_count": 84,
     "metadata": {},
     "output_type": "execute_result"
    }
   ],
   "source": [
    "start_date_deposite.sum()\n"
   ]
  },
  {
   "cell_type": "code",
   "execution_count": 85,
   "id": "c3316449",
   "metadata": {},
   "outputs": [
    {
     "data": {
      "text/plain": [
       "5000"
      ]
     },
     "execution_count": 85,
     "metadata": {},
     "output_type": "execute_result"
    }
   ],
   "source": [
    "start_date_deposite.max()"
   ]
  },
  {
   "cell_type": "code",
   "execution_count": 86,
   "id": "cbb1720a",
   "metadata": {},
   "outputs": [
    {
     "data": {
      "text/plain": [
       "1000"
      ]
     },
     "execution_count": 86,
     "metadata": {},
     "output_type": "execute_result"
    }
   ],
   "source": [
    "start_date_deposite.min()"
   ]
  },
  {
   "cell_type": "code",
   "execution_count": 87,
   "id": "ad06e8ed",
   "metadata": {},
   "outputs": [
    {
     "data": {
      "text/plain": [
       "'7/6/2014'"
      ]
     },
     "execution_count": 87,
     "metadata": {},
     "output_type": "execute_result"
    }
   ],
   "source": [
    "start_date_deposite.idxmax()"
   ]
  },
  {
   "cell_type": "code",
   "execution_count": 88,
   "id": "da1424ec",
   "metadata": {},
   "outputs": [
    {
     "data": {
      "text/plain": [
       "'7/5/2014'"
      ]
     },
     "execution_count": 88,
     "metadata": {},
     "output_type": "execute_result"
    }
   ],
   "source": [
    "start_date_deposite.idxmin()"
   ]
  },
  {
   "cell_type": "code",
   "execution_count": 89,
   "id": "40757d06",
   "metadata": {},
   "outputs": [
    {
     "data": {
      "text/plain": [
       "2666.6666666666665"
      ]
     },
     "execution_count": 89,
     "metadata": {},
     "output_type": "execute_result"
    }
   ],
   "source": [
    "start_date_deposite.mean()"
   ]
  },
  {
   "cell_type": "code",
   "execution_count": 90,
   "id": "97646abf",
   "metadata": {},
   "outputs": [
    {
     "data": {
      "text/plain": [
       "2000.0"
      ]
     },
     "execution_count": 90,
     "metadata": {},
     "output_type": "execute_result"
    }
   ],
   "source": [
    "start_date_deposite.median()"
   ]
  },
  {
   "cell_type": "code",
   "execution_count": 91,
   "id": "2f12db94",
   "metadata": {},
   "outputs": [
    {
     "data": {
      "text/plain": [
       "2081.6659994661327"
      ]
     },
     "execution_count": 91,
     "metadata": {},
     "output_type": "execute_result"
    }
   ],
   "source": [
    "start_date_deposite.std()"
   ]
  },
  {
   "cell_type": "code",
   "execution_count": 92,
   "id": "fa737981",
   "metadata": {},
   "outputs": [
    {
     "data": {
      "text/plain": [
       "7/4/2014    2000\n",
       "7/5/2014    1000\n",
       "7/6/2014    5000\n",
       "dtype: int64"
      ]
     },
     "execution_count": 92,
     "metadata": {},
     "output_type": "execute_result"
    }
   ],
   "source": [
    "#Non mathematical methods or methods that are specific to pandas\n",
    "start_date_deposite.head()"
   ]
  },
  {
   "cell_type": "code",
   "execution_count": 93,
   "id": "def5c91c",
   "metadata": {},
   "outputs": [
    {
     "data": {
      "text/plain": [
       "7/4/2014    2000\n",
       "7/5/2014    1000\n",
       "7/6/2014    5000\n",
       "dtype: int64"
      ]
     },
     "execution_count": 93,
     "metadata": {},
     "output_type": "execute_result"
    }
   ],
   "source": [
    "start_date_deposite.tail()"
   ]
  },
  {
   "cell_type": "code",
   "execution_count": 94,
   "id": "f6a5c7fe",
   "metadata": {},
   "outputs": [
    {
     "data": {
      "text/plain": [
       "7/4/2014    2000\n",
       "7/5/2014    1000\n",
       "dtype: int64"
      ]
     },
     "execution_count": 94,
     "metadata": {},
     "output_type": "execute_result"
    }
   ],
   "source": [
    "#Parameters and arguments\n",
    "start_date_deposite.head(2)"
   ]
  },
  {
   "cell_type": "code",
   "execution_count": 98,
   "id": "1a07b41d",
   "metadata": {},
   "outputs": [
    {
     "data": {
      "text/html": [
       "<div>\n",
       "<style scoped>\n",
       "    .dataframe tbody tr th:only-of-type {\n",
       "        vertical-align: middle;\n",
       "    }\n",
       "\n",
       "    .dataframe tbody tr th {\n",
       "        vertical-align: top;\n",
       "    }\n",
       "\n",
       "    .dataframe thead th {\n",
       "        text-align: right;\n",
       "    }\n",
       "</style>\n",
       "<table border=\"1\" class=\"dataframe\">\n",
       "  <thead>\n",
       "    <tr style=\"text-align: right;\">\n",
       "      <th></th>\n",
       "      <th>ProductName</th>\n",
       "      <th>ProductPrice</th>\n",
       "    </tr>\n",
       "  </thead>\n",
       "  <tbody>\n",
       "    <tr>\n",
       "      <th>0</th>\n",
       "      <td>Product A</td>\n",
       "      <td>1212</td>\n",
       "    </tr>\n",
       "    <tr>\n",
       "      <th>1</th>\n",
       "      <td>Product B</td>\n",
       "      <td>3123</td>\n",
       "    </tr>\n",
       "    <tr>\n",
       "      <th>2</th>\n",
       "      <td>Product C</td>\n",
       "      <td>4124</td>\n",
       "    </tr>\n",
       "  </tbody>\n",
       "</table>\n",
       "</div>"
      ],
      "text/plain": [
       "  ProductName  ProductPrice\n",
       "0   Product A          1212\n",
       "1   Product B          3123\n",
       "2   Product C          4124"
      ]
     },
     "execution_count": 98,
     "metadata": {},
     "output_type": "execute_result"
    }
   ],
   "source": [
    "#Construct DataFrames from a dictionary of lists\n",
    "data = {'ProductName': ['Product A','Product B','Product C'], 'ProductPrice':[1212,3123,4124]}\n",
    "df = pd.DataFrame(data)\n",
    "df"
   ]
  },
  {
   "cell_type": "code",
   "execution_count": 99,
   "id": "719790bb",
   "metadata": {},
   "outputs": [
    {
     "data": {
      "text/html": [
       "<div>\n",
       "<style scoped>\n",
       "    .dataframe tbody tr th:only-of-type {\n",
       "        vertical-align: middle;\n",
       "    }\n",
       "\n",
       "    .dataframe tbody tr th {\n",
       "        vertical-align: top;\n",
       "    }\n",
       "\n",
       "    .dataframe thead th {\n",
       "        text-align: right;\n",
       "    }\n",
       "</style>\n",
       "<table border=\"1\" class=\"dataframe\">\n",
       "  <thead>\n",
       "    <tr style=\"text-align: right;\">\n",
       "      <th></th>\n",
       "      <th>ProductName</th>\n",
       "      <th>ProductPrice</th>\n",
       "    </tr>\n",
       "  </thead>\n",
       "  <tbody>\n",
       "    <tr>\n",
       "      <th>A</th>\n",
       "      <td>Product A</td>\n",
       "      <td>1212</td>\n",
       "    </tr>\n",
       "    <tr>\n",
       "      <th>B</th>\n",
       "      <td>Product B</td>\n",
       "      <td>3123</td>\n",
       "    </tr>\n",
       "    <tr>\n",
       "      <th>C</th>\n",
       "      <td>Product C</td>\n",
       "      <td>4124</td>\n",
       "    </tr>\n",
       "  </tbody>\n",
       "</table>\n",
       "</div>"
      ],
      "text/plain": [
       "  ProductName  ProductPrice\n",
       "A   Product A          1212\n",
       "B   Product B          3123\n",
       "C   Product C          4124"
      ]
     },
     "execution_count": 99,
     "metadata": {},
     "output_type": "execute_result"
    }
   ],
   "source": [
    "#Construct DataFrames from a dictionary of lists + specify index\n",
    "data = {'ProductName': ['Product A','Product B','Product C'], 'ProductPrice':[1212,3123,4124]}\n",
    "df = pd.DataFrame(data, index=['A','B','C'])\n",
    "df"
   ]
  },
  {
   "cell_type": "code",
   "execution_count": 100,
   "id": "7b2339f4",
   "metadata": {},
   "outputs": [
    {
     "data": {
      "text/html": [
       "<div>\n",
       "<style scoped>\n",
       "    .dataframe tbody tr th:only-of-type {\n",
       "        vertical-align: middle;\n",
       "    }\n",
       "\n",
       "    .dataframe tbody tr th {\n",
       "        vertical-align: top;\n",
       "    }\n",
       "\n",
       "    .dataframe thead th {\n",
       "        text-align: right;\n",
       "    }\n",
       "</style>\n",
       "<table border=\"1\" class=\"dataframe\">\n",
       "  <thead>\n",
       "    <tr style=\"text-align: right;\">\n",
       "      <th></th>\n",
       "      <th>ProductName</th>\n",
       "      <th>ProductPrice</th>\n",
       "    </tr>\n",
       "  </thead>\n",
       "  <tbody>\n",
       "    <tr>\n",
       "      <th>A</th>\n",
       "      <td>Product A</td>\n",
       "      <td>1212</td>\n",
       "    </tr>\n",
       "    <tr>\n",
       "      <th>B</th>\n",
       "      <td>Product B</td>\n",
       "      <td>3123</td>\n",
       "    </tr>\n",
       "    <tr>\n",
       "      <th>C</th>\n",
       "      <td>Product C</td>\n",
       "      <td>4124</td>\n",
       "    </tr>\n",
       "  </tbody>\n",
       "</table>\n",
       "</div>"
      ],
      "text/plain": [
       "  ProductName  ProductPrice\n",
       "A   Product A          1212\n",
       "B   Product B          3123\n",
       "C   Product C          4124"
      ]
     },
     "execution_count": 100,
     "metadata": {},
     "output_type": "execute_result"
    }
   ],
   "source": [
    "data = {'ProductName': ['Product A','Product B','Product C'], 'ProductPrice':[1212,3123,4124]}\n",
    "product_ID=['A','B','C']\n",
    "df = pd.DataFrame(data, product_ID)\n",
    "df"
   ]
  },
  {
   "cell_type": "code",
   "execution_count": 121,
   "id": "2d1bd318",
   "metadata": {},
   "outputs": [
    {
     "data": {
      "text/html": [
       "<div>\n",
       "<style scoped>\n",
       "    .dataframe tbody tr th:only-of-type {\n",
       "        vertical-align: middle;\n",
       "    }\n",
       "\n",
       "    .dataframe tbody tr th {\n",
       "        vertical-align: top;\n",
       "    }\n",
       "\n",
       "    .dataframe thead th {\n",
       "        text-align: right;\n",
       "    }\n",
       "</style>\n",
       "<table border=\"1\" class=\"dataframe\">\n",
       "  <thead>\n",
       "    <tr style=\"text-align: right;\">\n",
       "      <th></th>\n",
       "      <th>ProductName</th>\n",
       "      <th>ProductPrice</th>\n",
       "    </tr>\n",
       "  </thead>\n",
       "  <tbody>\n",
       "    <tr>\n",
       "      <th>A</th>\n",
       "      <td>Product A</td>\n",
       "      <td>2000</td>\n",
       "    </tr>\n",
       "    <tr>\n",
       "      <th>B</th>\n",
       "      <td>Product B</td>\n",
       "      <td>4000</td>\n",
       "    </tr>\n",
       "    <tr>\n",
       "      <th>C</th>\n",
       "      <td>Product B</td>\n",
       "      <td>1000</td>\n",
       "    </tr>\n",
       "  </tbody>\n",
       "</table>\n",
       "</div>"
      ],
      "text/plain": [
       "  ProductName  ProductPrice\n",
       "A   Product A          2000\n",
       "B   Product B          4000\n",
       "C   Product B          1000"
      ]
     },
     "execution_count": 121,
     "metadata": {},
     "output_type": "execute_result"
    }
   ],
   "source": [
    "#Construct DataFrames from a list of dictionaries\n",
    "data = [{'ProductName':'Product A', 'ProductPrice':2000},\n",
    "        {'ProductName':'Product B', 'ProductPrice':4000},\n",
    "        {'ProductName':'Product B', 'ProductPrice':1000},\n",
    "        ]\n",
    "df = pd.DataFrame(data, product_ID)\n",
    "df"
   ]
  },
  {
   "cell_type": "code",
   "execution_count": 129,
   "metadata": {},
   "outputs": [
    {
     "data": {
      "text/html": [
       "<div>\n",
       "<style scoped>\n",
       "    .dataframe tbody tr th:only-of-type {\n",
       "        vertical-align: middle;\n",
       "    }\n",
       "\n",
       "    .dataframe tbody tr th {\n",
       "        vertical-align: top;\n",
       "    }\n",
       "\n",
       "    .dataframe thead th {\n",
       "        text-align: right;\n",
       "    }\n",
       "</style>\n",
       "<table border=\"1\" class=\"dataframe\">\n",
       "  <thead>\n",
       "    <tr style=\"text-align: right;\">\n",
       "      <th></th>\n",
       "      <th>ProductName</th>\n",
       "      <th>ProductPrice</th>\n",
       "    </tr>\n",
       "  </thead>\n",
       "  <tbody>\n",
       "    <tr>\n",
       "      <th>A</th>\n",
       "      <td>Product A</td>\n",
       "      <td>3123</td>\n",
       "    </tr>\n",
       "    <tr>\n",
       "      <th>B</th>\n",
       "      <td>Product B</td>\n",
       "      <td>1212</td>\n",
       "    </tr>\n",
       "    <tr>\n",
       "      <th>C</th>\n",
       "      <td>Product C</td>\n",
       "      <td>4124</td>\n",
       "    </tr>\n",
       "  </tbody>\n",
       "</table>\n",
       "</div>"
      ],
      "text/plain": [
       "  ProductName  ProductPrice\n",
       "A   Product A          3123\n",
       "B   Product B          1212\n",
       "C   Product C          4124"
      ]
     },
     "execution_count": 129,
     "metadata": {},
     "output_type": "execute_result"
    }
   ],
   "source": [
    "ser_products=pd.Series(['Product A', 'Product B', 'Product C'], index=['A','B','C'])\n",
    "ser_price=pd.Series([1212,3123,4124], index=['B','A','C'])\n",
    "data = {'ProductName':ser_products, 'ProductPrice':ser_price}\n",
    "df = pd.DataFrame(data)\n",
    "df"
   ]
  },
  {
   "cell_type": "code",
   "execution_count": 131,
   "metadata": {},
   "outputs": [
    {
     "data": {
      "text/html": [
       "<div>\n",
       "<style scoped>\n",
       "    .dataframe tbody tr th:only-of-type {\n",
       "        vertical-align: middle;\n",
       "    }\n",
       "\n",
       "    .dataframe tbody tr th {\n",
       "        vertical-align: top;\n",
       "    }\n",
       "\n",
       "    .dataframe thead th {\n",
       "        text-align: right;\n",
       "    }\n",
       "</style>\n",
       "<table border=\"1\" class=\"dataframe\">\n",
       "  <thead>\n",
       "    <tr style=\"text-align: right;\">\n",
       "      <th></th>\n",
       "      <th>ProductName</th>\n",
       "      <th>ProductPrice</th>\n",
       "    </tr>\n",
       "  </thead>\n",
       "  <tbody>\n",
       "    <tr>\n",
       "      <th>A</th>\n",
       "      <td>Product A</td>\n",
       "      <td>1212</td>\n",
       "    </tr>\n",
       "    <tr>\n",
       "      <th>B</th>\n",
       "      <td>Product B</td>\n",
       "      <td>3123</td>\n",
       "    </tr>\n",
       "    <tr>\n",
       "      <th>C</th>\n",
       "      <td>Product C</td>\n",
       "      <td>4124</td>\n",
       "    </tr>\n",
       "  </tbody>\n",
       "</table>\n",
       "</div>"
      ],
      "text/plain": [
       "  ProductName  ProductPrice\n",
       "A   Product A          1212\n",
       "B   Product B          3123\n",
       "C   Product C          4124"
      ]
     },
     "execution_count": 131,
     "metadata": {},
     "output_type": "execute_result"
    }
   ],
   "source": [
    "df= pd.DataFrame(data=[['Product A', 1212],['Product B', 3123],['Product C', 4124]], columns=['ProductName','ProductPrice'],index=['A','B','C'])\n",
    "data"
   ]
  },
  {
   "cell_type": "code",
   "execution_count": null,
   "id": "96eae1e7",
   "metadata": {},
   "outputs": [],
   "source": []
  }
 ],
 "metadata": {
  "kernelspec": {
   "display_name": "Python 3 (ipykernel)",
   "language": "python",
   "name": "python3"
  },
  "language_info": {
   "codemirror_mode": {
    "name": "ipython",
    "version": 3
   },
   "file_extension": ".py",
   "mimetype": "text/x-python",
   "name": "python",
   "nbconvert_exporter": "python",
   "pygments_lexer": "ipython3",
   "version": "3.11.3"
  }
 },
 "nbformat": 4,
 "nbformat_minor": 5
}
