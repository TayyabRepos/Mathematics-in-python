{
 "cells": [
  {
   "cell_type": "code",
   "execution_count": 7,
   "id": "a583a0b6",
   "metadata": {},
   "outputs": [],
   "source": [
    "#Import libs"
   ]
  },
  {
   "cell_type": "code",
   "execution_count": 8,
   "id": "e87eab92",
   "metadata": {},
   "outputs": [],
   "source": [
    "import numpy as np"
   ]
  },
  {
   "cell_type": "code",
   "execution_count": 9,
   "id": "b7469e7e",
   "metadata": {},
   "outputs": [],
   "source": [
    "#Declare scaler vectors and matrices"
   ]
  },
  {
   "cell_type": "code",
   "execution_count": 10,
   "id": "b3d8ed6d",
   "metadata": {},
   "outputs": [],
   "source": [
    "#Scaler"
   ]
  },
  {
   "cell_type": "code",
   "execution_count": 11,
   "id": "26b9b4ab",
   "metadata": {
    "pycharm": {
     "is_executing": true
    }
   },
   "outputs": [],
   "source": [
    "s = 5\n"
   ]
  },
  {
   "cell_type": "code",
   "execution_count": 12,
   "id": "eee75ec9",
   "metadata": {},
   "outputs": [
    {
     "data": {
      "text/plain": [
       "5"
      ]
     },
     "execution_count": 12,
     "metadata": {},
     "output_type": "execute_result"
    }
   ],
   "source": [
    "s\n"
   ]
  },
  {
   "cell_type": "code",
   "execution_count": 13,
   "id": "a2dd75cf",
   "metadata": {},
   "outputs": [],
   "source": [
    "v = np.array([1,2,3,4])"
   ]
  },
  {
   "cell_type": "code",
   "execution_count": 14,
   "id": "2c21aa48",
   "metadata": {},
   "outputs": [
    {
     "data": {
      "text/plain": [
       "array([1, 2, 3, 4])"
      ]
     },
     "execution_count": 14,
     "metadata": {},
     "output_type": "execute_result"
    }
   ],
   "source": [
    "v"
   ]
  },
  {
   "cell_type": "code",
   "execution_count": 15,
   "id": "fa768d67",
   "metadata": {},
   "outputs": [],
   "source": [
    "#Matrices"
   ]
  },
  {
   "cell_type": "code",
   "execution_count": 16,
   "id": "f44a7063",
   "metadata": {},
   "outputs": [],
   "source": [
    "m = np.array([[1,2,3],[4,5,6]])"
   ]
  },
  {
   "cell_type": "code",
   "execution_count": 17,
   "id": "e33ea206",
   "metadata": {},
   "outputs": [
    {
     "data": {
      "text/plain": [
       "array([[1, 2, 3],\n",
       "       [4, 5, 6]])"
      ]
     },
     "execution_count": 17,
     "metadata": {},
     "output_type": "execute_result"
    }
   ],
   "source": [
    "m"
   ]
  },
  {
   "cell_type": "code",
   "execution_count": 18,
   "id": "42097cb3",
   "metadata": {},
   "outputs": [],
   "source": [
    "#DataTypes"
   ]
  },
  {
   "cell_type": "code",
   "execution_count": 19,
   "id": "db8556d3",
   "metadata": {},
   "outputs": [
    {
     "data": {
      "text/plain": [
       "int"
      ]
     },
     "execution_count": 19,
     "metadata": {},
     "output_type": "execute_result"
    }
   ],
   "source": [
    "type(s)"
   ]
  },
  {
   "cell_type": "code",
   "execution_count": 20,
   "id": "89b7f5ab",
   "metadata": {},
   "outputs": [
    {
     "data": {
      "text/plain": [
       "numpy.ndarray"
      ]
     },
     "execution_count": 20,
     "metadata": {},
     "output_type": "execute_result"
    }
   ],
   "source": [
    "type(v)"
   ]
  },
  {
   "cell_type": "code",
   "execution_count": 21,
   "id": "1b807005",
   "metadata": {},
   "outputs": [
    {
     "data": {
      "text/plain": [
       "numpy.ndarray"
      ]
     },
     "execution_count": 21,
     "metadata": {},
     "output_type": "execute_result"
    }
   ],
   "source": [
    "type(m)"
   ]
  },
  {
   "cell_type": "code",
   "execution_count": 22,
   "id": "206eeddf",
   "metadata": {},
   "outputs": [],
   "source": [
    "s_array = np.array(5)"
   ]
  },
  {
   "cell_type": "code",
   "execution_count": 23,
   "id": "df51bdff",
   "metadata": {},
   "outputs": [
    {
     "data": {
      "text/plain": [
       "numpy.ndarray"
      ]
     },
     "execution_count": 23,
     "metadata": {},
     "output_type": "execute_result"
    }
   ],
   "source": [
    "type(s_array)"
   ]
  },
  {
   "cell_type": "code",
   "execution_count": 24,
   "id": "fb37d137",
   "metadata": {},
   "outputs": [],
   "source": [
    "#DataShapes"
   ]
  },
  {
   "cell_type": "code",
   "execution_count": 25,
   "id": "33da8373",
   "metadata": {},
   "outputs": [
    {
     "data": {
      "text/plain": [
       "()"
      ]
     },
     "execution_count": 25,
     "metadata": {},
     "output_type": "execute_result"
    }
   ],
   "source": [
    "s_array.shape"
   ]
  },
  {
   "cell_type": "code",
   "execution_count": 26,
   "id": "ce156f20",
   "metadata": {},
   "outputs": [
    {
     "data": {
      "text/plain": [
       "(4,)"
      ]
     },
     "execution_count": 26,
     "metadata": {},
     "output_type": "execute_result"
    }
   ],
   "source": [
    "v.shape"
   ]
  },
  {
   "cell_type": "code",
   "execution_count": 27,
   "id": "b4cd87bf",
   "metadata": {},
   "outputs": [
    {
     "data": {
      "text/plain": [
       "(2, 3)"
      ]
     },
     "execution_count": 27,
     "metadata": {},
     "output_type": "execute_result"
    }
   ],
   "source": [
    "m.shape\n"
   ]
  },
  {
   "cell_type": "code",
   "execution_count": 28,
   "id": "054836ce",
   "metadata": {},
   "outputs": [
    {
     "data": {
      "text/plain": [
       "array([[1, 2, 3, 4]])"
      ]
     },
     "execution_count": 28,
     "metadata": {},
     "output_type": "execute_result"
    }
   ],
   "source": [
    "v.reshape(1,4)"
   ]
  },
  {
   "cell_type": "code",
   "execution_count": 29,
   "id": "0003fd8b",
   "metadata": {},
   "outputs": [
    {
     "data": {
      "text/plain": [
       "array([[1],\n",
       "       [2],\n",
       "       [3],\n",
       "       [4]])"
      ]
     },
     "execution_count": 29,
     "metadata": {},
     "output_type": "execute_result"
    }
   ],
   "source": [
    "v.reshape(4,1)"
   ]
  },
  {
   "cell_type": "code",
   "execution_count": 30,
   "id": "2ab460d9",
   "metadata": {},
   "outputs": [],
   "source": [
    "#Matrices Additon\n",
    "#Condition: Two matrices must have same dimensions"
   ]
  },
  {
   "cell_type": "code",
   "execution_count": 31,
   "id": "93dd5bc0",
   "metadata": {},
   "outputs": [],
   "source": [
    "m1 = np.array([[1,2,3],[4,5,6]])\n",
    "m2 = np.array([[4,5,6],[1,2,3]])"
   ]
  },
  {
   "cell_type": "code",
   "execution_count": 32,
   "id": "be4ef29e",
   "metadata": {},
   "outputs": [
    {
     "data": {
      "text/plain": [
       "array([[5, 7, 9],\n",
       "       [5, 7, 9]])"
      ]
     },
     "execution_count": 32,
     "metadata": {},
     "output_type": "execute_result"
    }
   ],
   "source": [
    "m1 + m2"
   ]
  },
  {
   "cell_type": "code",
   "execution_count": 33,
   "id": "8f8b3461",
   "metadata": {},
   "outputs": [
    {
     "data": {
      "text/plain": [
       "array([[-3, -3, -3],\n",
       "       [ 3,  3,  3]])"
      ]
     },
     "execution_count": 33,
     "metadata": {},
     "output_type": "execute_result"
    }
   ],
   "source": [
    "#Subtraction\n",
    "m1-m2"
   ]
  },
  {
   "cell_type": "code",
   "execution_count": 34,
   "id": "1c0aed35",
   "metadata": {},
   "outputs": [
    {
     "data": {
      "text/plain": [
       "array([[2, 3, 4],\n",
       "       [5, 6, 7]])"
      ]
     },
     "execution_count": 34,
     "metadata": {},
     "output_type": "execute_result"
    }
   ],
   "source": [
    "#Scaler Addtion with matrices\n",
    "1+m1"
   ]
  },
  {
   "cell_type": "code",
   "execution_count": 35,
   "id": "cc1032dd",
   "metadata": {},
   "outputs": [
    {
     "data": {
      "text/plain": [
       "array([2, 3, 4, 5])"
      ]
     },
     "execution_count": 35,
     "metadata": {},
     "output_type": "execute_result"
    }
   ],
   "source": [
    "v + np.array(1)"
   ]
  },
  {
   "cell_type": "code",
   "execution_count": 36,
   "id": "d3902f1f",
   "metadata": {},
   "outputs": [],
   "source": [
    "#Transpose\n",
    "#Important considrations\n",
    "#1)Values are not changing or tranforming only their position is\n",
    "#2)Transposing the same vector (object) twice yields the initial vector (object)\n",
    "#3)A 3x1 matrix transpose is a 1x3 matrix"
   ]
  },
  {
   "cell_type": "code",
   "execution_count": 37,
   "id": "87fde8e3",
   "metadata": {},
   "outputs": [
    {
     "data": {
      "text/plain": [
       "(2, 3)"
      ]
     },
     "execution_count": 37,
     "metadata": {},
     "output_type": "execute_result"
    }
   ],
   "source": [
    "m1.shape\n"
   ]
  },
  {
   "cell_type": "code",
   "execution_count": 38,
   "id": "b12375fe",
   "metadata": {},
   "outputs": [],
   "source": [
    "m3 = m1.T"
   ]
  },
  {
   "cell_type": "code",
   "execution_count": 39,
   "id": "1f41aee4",
   "metadata": {},
   "outputs": [
    {
     "data": {
      "text/plain": [
       "array([[1, 4],\n",
       "       [2, 5],\n",
       "       [3, 6]])"
      ]
     },
     "execution_count": 39,
     "metadata": {},
     "output_type": "execute_result"
    }
   ],
   "source": [
    "m3"
   ]
  },
  {
   "cell_type": "code",
   "execution_count": 40,
   "id": "cbe340ca",
   "metadata": {},
   "outputs": [
    {
     "data": {
      "text/plain": [
       "(3, 2)"
      ]
     },
     "execution_count": 40,
     "metadata": {},
     "output_type": "execute_result"
    }
   ],
   "source": [
    "m3.shape"
   ]
  },
  {
   "cell_type": "code",
   "execution_count": 41,
   "id": "2a0a9364",
   "metadata": {},
   "outputs": [
    {
     "data": {
      "text/plain": [
       "array(5)"
      ]
     },
     "execution_count": 41,
     "metadata": {},
     "output_type": "execute_result"
    }
   ],
   "source": [
    "#Scaler transpose: Any scaler transpose is itself\n",
    "s_array.T\n"
   ]
  },
  {
   "cell_type": "code",
   "execution_count": 42,
   "id": "3faa6e06",
   "metadata": {},
   "outputs": [
    {
     "data": {
      "text/plain": [
       "(4,)"
      ]
     },
     "execution_count": 42,
     "metadata": {},
     "output_type": "execute_result"
    }
   ],
   "source": [
    "#Vector Transpose: one dimestions arrays don't get transposed\n",
    "v.shape\n"
   ]
  },
  {
   "cell_type": "code",
   "execution_count": 43,
   "id": "e07ca890",
   "metadata": {},
   "outputs": [
    {
     "data": {
      "text/plain": [
       "array([1, 2, 3, 4])"
      ]
     },
     "execution_count": 43,
     "metadata": {},
     "output_type": "execute_result"
    }
   ],
   "source": [
    "v.T"
   ]
  },
  {
   "cell_type": "code",
   "execution_count": 44,
   "id": "c21e50ed",
   "metadata": {},
   "outputs": [
    {
     "data": {
      "text/plain": [
       "array([[1, 2, 3, 4]])"
      ]
     },
     "execution_count": 44,
     "metadata": {},
     "output_type": "execute_result"
    }
   ],
   "source": [
    "v_reshaped = v.reshape(1,4)\n",
    "v_reshaped\n"
   ]
  },
  {
   "cell_type": "code",
   "execution_count": 45,
   "id": "cfa3d940",
   "metadata": {},
   "outputs": [
    {
     "data": {
      "text/plain": [
       "array([[1],\n",
       "       [2],\n",
       "       [3],\n",
       "       [4]])"
      ]
     },
     "execution_count": 45,
     "metadata": {},
     "output_type": "execute_result"
    }
   ],
   "source": [
    "v_reshaped.T"
   ]
  },
  {
   "cell_type": "code",
   "execution_count": 46,
   "id": "35cc137a",
   "metadata": {},
   "outputs": [],
   "source": [
    "#Vector Multiplication: Sum of the product of corresponding element\n",
    "#Conditon: They must have same length\n",
    "#Dot or inner product\n",
    "#Tensor or outer product\n",
    "#Multiplication of two vector is a scaler"
   ]
  },
  {
   "cell_type": "code",
   "execution_count": 47,
   "id": "2e46aa6f",
   "metadata": {},
   "outputs": [],
   "source": [
    "#Dot product"
   ]
  },
  {
   "cell_type": "code",
   "execution_count": 48,
   "id": "ea9979e0",
   "metadata": {},
   "outputs": [],
   "source": [
    "x1 = np.array([0,2,3,4])\n",
    "x2 = np.array([4,2,4,1])\n"
   ]
  },
  {
   "cell_type": "code",
   "execution_count": 49,
   "id": "0199214e",
   "metadata": {},
   "outputs": [
    {
     "data": {
      "text/plain": [
       "20"
      ]
     },
     "execution_count": 49,
     "metadata": {},
     "output_type": "execute_result"
    }
   ],
   "source": [
    "np.dot(x1,x2)"
   ]
  },
  {
   "cell_type": "code",
   "execution_count": 50,
   "id": "68ec7e0d",
   "metadata": {},
   "outputs": [],
   "source": [
    "#Scaler * Scaler\n"
   ]
  },
  {
   "cell_type": "code",
   "execution_count": 51,
   "id": "5986187f",
   "metadata": {},
   "outputs": [
    {
     "data": {
      "text/plain": [
       "252"
      ]
     },
     "execution_count": 51,
     "metadata": {},
     "output_type": "execute_result"
    }
   ],
   "source": [
    "np.dot(12,21)"
   ]
  },
  {
   "cell_type": "code",
   "execution_count": 52,
   "id": "067908e1",
   "metadata": {},
   "outputs": [],
   "source": [
    "#Vector * Scaler\n"
   ]
  },
  {
   "cell_type": "code",
   "execution_count": 53,
   "id": "8ef98172",
   "metadata": {},
   "outputs": [
    {
     "data": {
      "text/plain": [
       "array([0, 2, 3, 4])"
      ]
     },
     "execution_count": 53,
     "metadata": {},
     "output_type": "execute_result"
    }
   ],
   "source": [
    "x1"
   ]
  },
  {
   "cell_type": "code",
   "execution_count": 54,
   "id": "bbf833ed",
   "metadata": {},
   "outputs": [
    {
     "data": {
      "text/plain": [
       "array([ 0, 10, 15, 20])"
      ]
     },
     "execution_count": 54,
     "metadata": {},
     "output_type": "execute_result"
    }
   ],
   "source": [
    "x1*5"
   ]
  },
  {
   "cell_type": "code",
   "execution_count": 55,
   "id": "04b9d65d",
   "metadata": {},
   "outputs": [],
   "source": [
    "#Scaler * Matrices"
   ]
  },
  {
   "cell_type": "code",
   "execution_count": 56,
   "id": "43f34dc6",
   "metadata": {},
   "outputs": [
    {
     "data": {
      "text/plain": [
       "array([[1, 2, 3],\n",
       "       [4, 5, 6]])"
      ]
     },
     "execution_count": 56,
     "metadata": {},
     "output_type": "execute_result"
    }
   ],
   "source": [
    "m1"
   ]
  },
  {
   "cell_type": "code",
   "execution_count": 57,
   "id": "66b49f1a",
   "metadata": {},
   "outputs": [
    {
     "data": {
      "text/plain": [
       "array([[ 2,  4,  6],\n",
       "       [ 8, 10, 12]])"
      ]
     },
     "execution_count": 57,
     "metadata": {},
     "output_type": "execute_result"
    }
   ],
   "source": [
    "m1*2"
   ]
  },
  {
   "cell_type": "code",
   "execution_count": 58,
   "id": "57c367e0",
   "metadata": {},
   "outputs": [],
   "source": [
    "#Matrices * Matrices\n",
    "#Condotion: Can only multiply m x n with an n x k \n",
    "#output m x n * n x k = m x k"
   ]
  },
  {
   "cell_type": "code",
   "execution_count": 59,
   "id": "9a941141",
   "metadata": {},
   "outputs": [],
   "source": [
    "m1=np.array([[5 , 12 ,6],[-3,0,14]])\n",
    "m2=np.array([[2,-1],[8,0],[3,0]])"
   ]
  },
  {
   "cell_type": "code",
   "execution_count": 60,
   "id": "2118499c",
   "metadata": {},
   "outputs": [
    {
     "data": {
      "text/plain": [
       "array([[124,  -5],\n",
       "       [ 36,   3]])"
      ]
     },
     "execution_count": 60,
     "metadata": {},
     "output_type": "execute_result"
    }
   ],
   "source": [
    "np.dot(m1,m2)"
   ]
  },
  {
   "cell_type": "code",
   "execution_count": 64,
   "id": "776fa734",
   "metadata": {},
   "outputs": [],
   "source": [
    "m1=np.array([1,2,3]) #1 by 3\n",
    "m2=np.array([[1],[2],[3]]) #3 by 1"
   ]
  },
  {
   "cell_type": "code",
   "execution_count": null,
   "id": "b3721239",
   "metadata": {},
   "outputs": [],
   "source": []
  }
 ],
 "metadata": {
  "kernelspec": {
   "display_name": "Python 3 (ipykernel)",
   "language": "python",
   "name": "python3"
  },
  "language_info": {
   "codemirror_mode": {
    "name": "ipython",
    "version": 3
   },
   "file_extension": ".py",
   "mimetype": "text/x-python",
   "name": "python",
   "nbconvert_exporter": "python",
   "pygments_lexer": "ipython3",
   "version": "3.9.13"
  }
 },
 "nbformat": 4,
 "nbformat_minor": 5
}
